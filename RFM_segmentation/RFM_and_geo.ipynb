{
 "cells": [
  {
   "cell_type": "markdown",
   "metadata": {},
   "source": [
    "# Задачи"
   ]
  },
  {
   "cell_type": "markdown",
   "metadata": {},
   "source": [
    "1)  RFM-сегментация:\n",
    "* https://emailsoldiers.ru/blog/rfm-analysis\n",
    "* https://www.unisender.com/ru/blog/idei/rfm-analiz/\n",
    "* https://www.putler.com/rfm-analysis/\n",
    "\n",
    "2) разбиваем клиентов на сегментов по RFM\n",
    "\n",
    "3) считаем следующие метрики:\n",
    "* View2Order (orders/views) по сегментам и в динамике по дням и времени суток (разделить сутки на утро-день-вечер-ночь);\n",
    "* Средний чек в разбивке по сегментам и городам;\n",
    "* Order2Ride (исполняемость) - rides/orders;\n",
    "* IQR по клиентскому чеку в разбивке по городу и сегменту.\n",
    "\n",
    "Также без разбиения по сегментам:\n",
    "* средняяя длительность поездок по часам;\n",
    "* динамика ценообразования (делим клиентский чек в рублях на длительность поездки в минутах и получаем стоимость за минуту и смотрим, как этот показатель меняется в течение суток и дней недели);\n",
    "\n",
    "\n",
    "**Дополнительные задачи**\n",
    "<br> 1) Визуализировать количество просмотров цены, заказов и поездок по гексагонам\n",
    "<br> 2) Визуализировать View2Order по гексагонам \n",
    "<br> гексагоны должны быть раскрашлены в зависимости от значения показателя\n",
    "<br> Можно использовать библиотку h3 или kepler.gl"
   ]
  },
  {
   "cell_type": "code",
   "execution_count": 1,
   "metadata": {},
   "outputs": [],
   "source": [
    "import pandas as pd\n",
    "import numpy as np\n",
    "import sqlalchemy\n",
    "import seaborn as sns\n",
    "from clickhouse_driver import Client\n",
    "from pandas_profiling import ProfileReport\n",
    "import plotly.graph_objs as go\n",
    "from plotly.offline import download_plotlyjs, init_notebook_mode, plot, iplot\n",
    "from plotly import tools\n",
    "from plotly.subplots import make_subplots\n",
    "import plotly.express as px\n",
    "from geopy.geocoders import Nominatim\n",
    "from sklearn.cluster import KMeans\n",
    "#import h3\n",
    "import seaborn as sns\n",
    "import matplotlib.pyplot as plt"
   ]
  },
  {
   "cell_type": "code",
   "execution_count": 2,
   "metadata": {},
   "outputs": [],
   "source": [
    "client = Client('89.208.84.253',\n",
    "                port= '59000',\n",
    "                user='student',\n",
    "                password='nUrHdn2N',\n",
    "                secure=False,\n",
    "                verify=True,\n",
    "                database='data_analysis',\n",
    "                compression=False)"
   ]
  },
  {
   "cell_type": "code",
   "execution_count": 3,
   "metadata": {},
   "outputs": [],
   "source": [
    "result,columns = client.execute(\"\"\"select *\n",
    "from data_analysis.views\n",
    "\"\"\",with_column_types=True)"
   ]
  },
  {
   "cell_type": "code",
   "execution_count": 4,
   "metadata": {},
   "outputs": [],
   "source": [
    "views = pd.DataFrame(result, columns=[tuple[0] for tuple in columns])"
   ]
  },
  {
   "cell_type": "code",
   "execution_count": 5,
   "metadata": {},
   "outputs": [
    {
     "data": {
      "text/html": [
       "<div>\n",
       "<style scoped>\n",
       "    .dataframe tbody tr th:only-of-type {\n",
       "        vertical-align: middle;\n",
       "    }\n",
       "\n",
       "    .dataframe tbody tr th {\n",
       "        vertical-align: top;\n",
       "    }\n",
       "\n",
       "    .dataframe thead th {\n",
       "        text-align: right;\n",
       "    }\n",
       "</style>\n",
       "<table border=\"1\" class=\"dataframe\">\n",
       "  <thead>\n",
       "    <tr style=\"text-align: right;\">\n",
       "      <th></th>\n",
       "      <th>idhash_view</th>\n",
       "      <th>view_dttm</th>\n",
       "      <th>tariff</th>\n",
       "      <th>idhash_order</th>\n",
       "      <th>idhash_client</th>\n",
       "      <th>client_bill_usd</th>\n",
       "      <th>latitude</th>\n",
       "      <th>longitude</th>\n",
       "      <th>del_latitude</th>\n",
       "      <th>del_longitude</th>\n",
       "    </tr>\n",
       "  </thead>\n",
       "  <tbody>\n",
       "    <tr>\n",
       "      <th>0</th>\n",
       "      <td>944452746</td>\n",
       "      <td>2015-12-14 19:43:26</td>\n",
       "      <td>Эконом</td>\n",
       "      <td>0</td>\n",
       "      <td>3923985705</td>\n",
       "      <td>2.52</td>\n",
       "      <td>57.622251</td>\n",
       "      <td>39.883861</td>\n",
       "      <td>57.636150</td>\n",
       "      <td>39.844848</td>\n",
       "    </tr>\n",
       "    <tr>\n",
       "      <th>1</th>\n",
       "      <td>1124126659</td>\n",
       "      <td>2015-12-14 19:43:28</td>\n",
       "      <td>Комфорт</td>\n",
       "      <td>0</td>\n",
       "      <td>1613934680</td>\n",
       "      <td>0.00</td>\n",
       "      <td>55.884660</td>\n",
       "      <td>37.408535</td>\n",
       "      <td>0.000000</td>\n",
       "      <td>0.000000</td>\n",
       "    </tr>\n",
       "    <tr>\n",
       "      <th>2</th>\n",
       "      <td>4108744040</td>\n",
       "      <td>2015-12-14 19:43:28</td>\n",
       "      <td>Эконом</td>\n",
       "      <td>0</td>\n",
       "      <td>112675651</td>\n",
       "      <td>5.57</td>\n",
       "      <td>57.696041</td>\n",
       "      <td>39.793804</td>\n",
       "      <td>57.677161</td>\n",
       "      <td>39.900115</td>\n",
       "    </tr>\n",
       "    <tr>\n",
       "      <th>3</th>\n",
       "      <td>2884954660</td>\n",
       "      <td>2015-12-14 19:43:29</td>\n",
       "      <td>Эконом</td>\n",
       "      <td>0</td>\n",
       "      <td>1584742787</td>\n",
       "      <td>3.31</td>\n",
       "      <td>57.571621</td>\n",
       "      <td>39.856915</td>\n",
       "      <td>57.610347</td>\n",
       "      <td>39.831193</td>\n",
       "    </tr>\n",
       "    <tr>\n",
       "      <th>4</th>\n",
       "      <td>3769769055</td>\n",
       "      <td>2015-12-14 19:43:30</td>\n",
       "      <td>Эконом</td>\n",
       "      <td>0</td>\n",
       "      <td>2202904080</td>\n",
       "      <td>5.99</td>\n",
       "      <td>55.768278</td>\n",
       "      <td>37.556728</td>\n",
       "      <td>55.774841</td>\n",
       "      <td>37.709461</td>\n",
       "    </tr>\n",
       "  </tbody>\n",
       "</table>\n",
       "</div>"
      ],
      "text/plain": [
       "   idhash_view           view_dttm   tariff  idhash_order  idhash_client  \\\n",
       "0    944452746 2015-12-14 19:43:26   Эконом             0     3923985705   \n",
       "1   1124126659 2015-12-14 19:43:28  Комфорт             0     1613934680   \n",
       "2   4108744040 2015-12-14 19:43:28   Эконом             0      112675651   \n",
       "3   2884954660 2015-12-14 19:43:29   Эконом             0     1584742787   \n",
       "4   3769769055 2015-12-14 19:43:30   Эконом             0     2202904080   \n",
       "\n",
       "   client_bill_usd   latitude  longitude  del_latitude  del_longitude  \n",
       "0             2.52  57.622251  39.883861     57.636150      39.844848  \n",
       "1             0.00  55.884660  37.408535      0.000000       0.000000  \n",
       "2             5.57  57.696041  39.793804     57.677161      39.900115  \n",
       "3             3.31  57.571621  39.856915     57.610347      39.831193  \n",
       "4             5.99  55.768278  37.556728     55.774841      37.709461  "
      ]
     },
     "execution_count": 5,
     "metadata": {},
     "output_type": "execute_result"
    }
   ],
   "source": [
    "views.head()"
   ]
  },
  {
   "cell_type": "code",
   "execution_count": 6,
   "metadata": {},
   "outputs": [],
   "source": [
    "df = views.sort_values(by='idhash_client')"
   ]
  },
  {
   "cell_type": "code",
   "execution_count": 7,
   "metadata": {},
   "outputs": [],
   "source": [
    "#df.head(30)"
   ]
  },
  {
   "cell_type": "code",
   "execution_count": 8,
   "metadata": {},
   "outputs": [],
   "source": [
    "a = views.groupby(['idhash_client'])['client_bill_usd'].sum() #monetary"
   ]
  },
  {
   "cell_type": "code",
   "execution_count": 9,
   "metadata": {},
   "outputs": [],
   "source": [
    "b = views.groupby(['idhash_client'])['client_bill_usd'].count() #frequency"
   ]
  },
  {
   "cell_type": "code",
   "execution_count": 10,
   "metadata": {},
   "outputs": [],
   "source": [
    "c = np.repeat(a, b)"
   ]
  },
  {
   "cell_type": "code",
   "execution_count": 11,
   "metadata": {},
   "outputs": [],
   "source": [
    "df['monetary'] = list(c)"
   ]
  },
  {
   "cell_type": "code",
   "execution_count": 12,
   "metadata": {},
   "outputs": [],
   "source": [
    "#len(a), len(b), len(c), len(d)"
   ]
  },
  {
   "cell_type": "code",
   "execution_count": 13,
   "metadata": {},
   "outputs": [],
   "source": [
    "d = np.repeat(b, b)"
   ]
  },
  {
   "cell_type": "code",
   "execution_count": 14,
   "metadata": {},
   "outputs": [],
   "source": [
    "df['frequency'] = list(d)"
   ]
  },
  {
   "cell_type": "code",
   "execution_count": 15,
   "metadata": {},
   "outputs": [
    {
     "data": {
      "text/html": [
       "<div>\n",
       "<style scoped>\n",
       "    .dataframe tbody tr th:only-of-type {\n",
       "        vertical-align: middle;\n",
       "    }\n",
       "\n",
       "    .dataframe tbody tr th {\n",
       "        vertical-align: top;\n",
       "    }\n",
       "\n",
       "    .dataframe thead th {\n",
       "        text-align: right;\n",
       "    }\n",
       "</style>\n",
       "<table border=\"1\" class=\"dataframe\">\n",
       "  <thead>\n",
       "    <tr style=\"text-align: right;\">\n",
       "      <th></th>\n",
       "      <th>idhash_view</th>\n",
       "      <th>view_dttm</th>\n",
       "      <th>tariff</th>\n",
       "      <th>idhash_order</th>\n",
       "      <th>idhash_client</th>\n",
       "      <th>client_bill_usd</th>\n",
       "      <th>latitude</th>\n",
       "      <th>longitude</th>\n",
       "      <th>del_latitude</th>\n",
       "      <th>del_longitude</th>\n",
       "      <th>monetary</th>\n",
       "      <th>frequency</th>\n",
       "    </tr>\n",
       "  </thead>\n",
       "  <tbody>\n",
       "    <tr>\n",
       "      <th>500157</th>\n",
       "      <td>965331158</td>\n",
       "      <td>2015-12-16 22:21:38</td>\n",
       "      <td>Эконом</td>\n",
       "      <td>3313666818</td>\n",
       "      <td>4294689425</td>\n",
       "      <td>2.28</td>\n",
       "      <td>57.569902</td>\n",
       "      <td>39.874486</td>\n",
       "      <td>57.584148</td>\n",
       "      <td>39.824690</td>\n",
       "      <td>2.280</td>\n",
       "      <td>1</td>\n",
       "    </tr>\n",
       "    <tr>\n",
       "      <th>431740</th>\n",
       "      <td>4098547777</td>\n",
       "      <td>2015-12-09 23:26:04</td>\n",
       "      <td>Бизнес</td>\n",
       "      <td>0</td>\n",
       "      <td>4294586559</td>\n",
       "      <td>35.94</td>\n",
       "      <td>57.581192</td>\n",
       "      <td>39.861628</td>\n",
       "      <td>57.683617</td>\n",
       "      <td>39.806371</td>\n",
       "      <td>35.940</td>\n",
       "      <td>1</td>\n",
       "    </tr>\n",
       "    <tr>\n",
       "      <th>891647</th>\n",
       "      <td>1576826296</td>\n",
       "      <td>2015-12-19 21:05:27</td>\n",
       "      <td>Комфорт</td>\n",
       "      <td>0</td>\n",
       "      <td>4294468826</td>\n",
       "      <td>7.71</td>\n",
       "      <td>57.592882</td>\n",
       "      <td>39.862275</td>\n",
       "      <td>57.624080</td>\n",
       "      <td>39.852321</td>\n",
       "      <td>176.920</td>\n",
       "      <td>46</td>\n",
       "    </tr>\n",
       "    <tr>\n",
       "      <th>891228</th>\n",
       "      <td>2622366663</td>\n",
       "      <td>2015-12-19 21:01:49</td>\n",
       "      <td>Бизнес</td>\n",
       "      <td>0</td>\n",
       "      <td>4294468826</td>\n",
       "      <td>11.76</td>\n",
       "      <td>57.592882</td>\n",
       "      <td>39.862275</td>\n",
       "      <td>57.624080</td>\n",
       "      <td>39.852321</td>\n",
       "      <td>176.920</td>\n",
       "      <td>46</td>\n",
       "    </tr>\n",
       "    <tr>\n",
       "      <th>831540</th>\n",
       "      <td>3927740305</td>\n",
       "      <td>2015-12-19 00:38:19</td>\n",
       "      <td>Комфорт+</td>\n",
       "      <td>0</td>\n",
       "      <td>4294468826</td>\n",
       "      <td>4.62</td>\n",
       "      <td>57.626855</td>\n",
       "      <td>39.843030</td>\n",
       "      <td>57.624080</td>\n",
       "      <td>39.852321</td>\n",
       "      <td>176.920</td>\n",
       "      <td>46</td>\n",
       "    </tr>\n",
       "    <tr>\n",
       "      <th>...</th>\n",
       "      <td>...</td>\n",
       "      <td>...</td>\n",
       "      <td>...</td>\n",
       "      <td>...</td>\n",
       "      <td>...</td>\n",
       "      <td>...</td>\n",
       "      <td>...</td>\n",
       "      <td>...</td>\n",
       "      <td>...</td>\n",
       "      <td>...</td>\n",
       "      <td>...</td>\n",
       "      <td>...</td>\n",
       "    </tr>\n",
       "    <tr>\n",
       "      <th>410041</th>\n",
       "      <td>3717819686</td>\n",
       "      <td>2015-12-12 22:42:29</td>\n",
       "      <td>Бизнес</td>\n",
       "      <td>0</td>\n",
       "      <td>39262</td>\n",
       "      <td>5.16</td>\n",
       "      <td>57.584282</td>\n",
       "      <td>39.825794</td>\n",
       "      <td>57.584214</td>\n",
       "      <td>39.839829</td>\n",
       "      <td>54.655</td>\n",
       "      <td>25</td>\n",
       "    </tr>\n",
       "    <tr>\n",
       "      <th>384102</th>\n",
       "      <td>3018987483</td>\n",
       "      <td>2015-12-12 22:19:15</td>\n",
       "      <td>Эконом</td>\n",
       "      <td>0</td>\n",
       "      <td>39262</td>\n",
       "      <td>1.72</td>\n",
       "      <td>57.584282</td>\n",
       "      <td>39.825794</td>\n",
       "      <td>57.584214</td>\n",
       "      <td>39.839829</td>\n",
       "      <td>54.655</td>\n",
       "      <td>25</td>\n",
       "    </tr>\n",
       "    <tr>\n",
       "      <th>73332</th>\n",
       "      <td>2007943777</td>\n",
       "      <td>2015-12-08 22:28:51</td>\n",
       "      <td>Эконом</td>\n",
       "      <td>0</td>\n",
       "      <td>39262</td>\n",
       "      <td>1.86</td>\n",
       "      <td>57.584282</td>\n",
       "      <td>39.825794</td>\n",
       "      <td>57.584214</td>\n",
       "      <td>39.839829</td>\n",
       "      <td>54.655</td>\n",
       "      <td>25</td>\n",
       "    </tr>\n",
       "    <tr>\n",
       "      <th>73325</th>\n",
       "      <td>4139885053</td>\n",
       "      <td>2015-12-08 22:28:46</td>\n",
       "      <td>Эконом</td>\n",
       "      <td>2686729818</td>\n",
       "      <td>39262</td>\n",
       "      <td>1.86</td>\n",
       "      <td>57.584282</td>\n",
       "      <td>39.825794</td>\n",
       "      <td>57.584214</td>\n",
       "      <td>39.839829</td>\n",
       "      <td>54.655</td>\n",
       "      <td>25</td>\n",
       "    </tr>\n",
       "    <tr>\n",
       "      <th>73289</th>\n",
       "      <td>156843244</td>\n",
       "      <td>2015-12-08 22:28:23</td>\n",
       "      <td>Эконом</td>\n",
       "      <td>0</td>\n",
       "      <td>39262</td>\n",
       "      <td>1.86</td>\n",
       "      <td>57.584282</td>\n",
       "      <td>39.825794</td>\n",
       "      <td>57.584214</td>\n",
       "      <td>39.839829</td>\n",
       "      <td>54.655</td>\n",
       "      <td>25</td>\n",
       "    </tr>\n",
       "  </tbody>\n",
       "</table>\n",
       "<p>903541 rows × 12 columns</p>\n",
       "</div>"
      ],
      "text/plain": [
       "        idhash_view           view_dttm    tariff  idhash_order  \\\n",
       "500157    965331158 2015-12-16 22:21:38    Эконом    3313666818   \n",
       "431740   4098547777 2015-12-09 23:26:04    Бизнес             0   \n",
       "891647   1576826296 2015-12-19 21:05:27   Комфорт             0   \n",
       "891228   2622366663 2015-12-19 21:01:49    Бизнес             0   \n",
       "831540   3927740305 2015-12-19 00:38:19  Комфорт+             0   \n",
       "...             ...                 ...       ...           ...   \n",
       "410041   3717819686 2015-12-12 22:42:29    Бизнес             0   \n",
       "384102   3018987483 2015-12-12 22:19:15    Эконом             0   \n",
       "73332    2007943777 2015-12-08 22:28:51    Эконом             0   \n",
       "73325    4139885053 2015-12-08 22:28:46    Эконом    2686729818   \n",
       "73289     156843244 2015-12-08 22:28:23    Эконом             0   \n",
       "\n",
       "        idhash_client  client_bill_usd   latitude  longitude  del_latitude  \\\n",
       "500157     4294689425             2.28  57.569902  39.874486     57.584148   \n",
       "431740     4294586559            35.94  57.581192  39.861628     57.683617   \n",
       "891647     4294468826             7.71  57.592882  39.862275     57.624080   \n",
       "891228     4294468826            11.76  57.592882  39.862275     57.624080   \n",
       "831540     4294468826             4.62  57.626855  39.843030     57.624080   \n",
       "...               ...              ...        ...        ...           ...   \n",
       "410041          39262             5.16  57.584282  39.825794     57.584214   \n",
       "384102          39262             1.72  57.584282  39.825794     57.584214   \n",
       "73332           39262             1.86  57.584282  39.825794     57.584214   \n",
       "73325           39262             1.86  57.584282  39.825794     57.584214   \n",
       "73289           39262             1.86  57.584282  39.825794     57.584214   \n",
       "\n",
       "        del_longitude  monetary  frequency  \n",
       "500157      39.824690     2.280          1  \n",
       "431740      39.806371    35.940          1  \n",
       "891647      39.852321   176.920         46  \n",
       "891228      39.852321   176.920         46  \n",
       "831540      39.852321   176.920         46  \n",
       "...               ...       ...        ...  \n",
       "410041      39.839829    54.655         25  \n",
       "384102      39.839829    54.655         25  \n",
       "73332       39.839829    54.655         25  \n",
       "73325       39.839829    54.655         25  \n",
       "73289       39.839829    54.655         25  \n",
       "\n",
       "[903541 rows x 12 columns]"
      ]
     },
     "execution_count": 15,
     "metadata": {},
     "output_type": "execute_result"
    }
   ],
   "source": [
    "df.sort_values(by=['idhash_client','view_dttm'], ascending=False)"
   ]
  },
  {
   "cell_type": "code",
   "execution_count": 16,
   "metadata": {},
   "outputs": [],
   "source": [
    "tm = df.groupby(['idhash_client'])['view_dttm'].max() #recency"
   ]
  },
  {
   "cell_type": "code",
   "execution_count": 17,
   "metadata": {},
   "outputs": [],
   "source": [
    "rfmTable = pd.DataFrame()"
   ]
  },
  {
   "cell_type": "code",
   "execution_count": 18,
   "metadata": {},
   "outputs": [],
   "source": [
    "#rfmTable['client'] = a.keys()\n",
    "rfmTable['recency'] = list(tm)\n",
    "rfmTable['frequency'] = list(b)\n",
    "rfmTable['monetary'] =list(a)"
   ]
  },
  {
   "cell_type": "code",
   "execution_count": 19,
   "metadata": {},
   "outputs": [],
   "source": [
    "rfmTable['date'] = rfmTable['recency'].dt.date"
   ]
  },
  {
   "cell_type": "code",
   "execution_count": 20,
   "metadata": {},
   "outputs": [],
   "source": [
    "#rfmTable.recency.max(), rfmTable['date'][0]"
   ]
  },
  {
   "cell_type": "code",
   "execution_count": 21,
   "metadata": {},
   "outputs": [],
   "source": [
    "#rfmTable['weekday'] = rfmTable['recency'].dt.day_name()"
   ]
  },
  {
   "cell_type": "code",
   "execution_count": 22,
   "metadata": {},
   "outputs": [],
   "source": [
    "rfmTable['date'] = rfmTable.date.max() - rfmTable['date']"
   ]
  },
  {
   "cell_type": "code",
   "execution_count": 23,
   "metadata": {},
   "outputs": [],
   "source": [
    "rfmTable['recency'] = rfmTable['date'].dt.days"
   ]
  },
  {
   "cell_type": "code",
   "execution_count": 24,
   "metadata": {},
   "outputs": [
    {
     "data": {
      "text/html": [
       "<div>\n",
       "<style scoped>\n",
       "    .dataframe tbody tr th:only-of-type {\n",
       "        vertical-align: middle;\n",
       "    }\n",
       "\n",
       "    .dataframe tbody tr th {\n",
       "        vertical-align: top;\n",
       "    }\n",
       "\n",
       "    .dataframe thead th {\n",
       "        text-align: right;\n",
       "    }\n",
       "</style>\n",
       "<table border=\"1\" class=\"dataframe\">\n",
       "  <thead>\n",
       "    <tr style=\"text-align: right;\">\n",
       "      <th></th>\n",
       "      <th>recency</th>\n",
       "      <th>frequency</th>\n",
       "      <th>monetary</th>\n",
       "      <th>date</th>\n",
       "    </tr>\n",
       "  </thead>\n",
       "  <tbody>\n",
       "    <tr>\n",
       "      <th>0</th>\n",
       "      <td>0</td>\n",
       "      <td>25</td>\n",
       "      <td>54.655</td>\n",
       "      <td>0 days</td>\n",
       "    </tr>\n",
       "    <tr>\n",
       "      <th>1</th>\n",
       "      <td>5</td>\n",
       "      <td>4</td>\n",
       "      <td>13.250</td>\n",
       "      <td>5 days</td>\n",
       "    </tr>\n",
       "    <tr>\n",
       "      <th>2</th>\n",
       "      <td>0</td>\n",
       "      <td>10</td>\n",
       "      <td>36.510</td>\n",
       "      <td>0 days</td>\n",
       "    </tr>\n",
       "    <tr>\n",
       "      <th>3</th>\n",
       "      <td>0</td>\n",
       "      <td>6</td>\n",
       "      <td>30.540</td>\n",
       "      <td>0 days</td>\n",
       "    </tr>\n",
       "    <tr>\n",
       "      <th>4</th>\n",
       "      <td>0</td>\n",
       "      <td>6</td>\n",
       "      <td>23.570</td>\n",
       "      <td>0 days</td>\n",
       "    </tr>\n",
       "  </tbody>\n",
       "</table>\n",
       "</div>"
      ],
      "text/plain": [
       "   recency  frequency  monetary   date\n",
       "0        0         25    54.655 0 days\n",
       "1        5          4    13.250 5 days\n",
       "2        0         10    36.510 0 days\n",
       "3        0          6    30.540 0 days\n",
       "4        0          6    23.570 0 days"
      ]
     },
     "execution_count": 24,
     "metadata": {},
     "output_type": "execute_result"
    }
   ],
   "source": [
    "rfmTable.head()"
   ]
  },
  {
   "cell_type": "code",
   "execution_count": 25,
   "metadata": {},
   "outputs": [],
   "source": [
    "quantiles = rfmTable.quantile(q=[0.25,0.5,0.75])"
   ]
  },
  {
   "cell_type": "code",
   "execution_count": 26,
   "metadata": {},
   "outputs": [
    {
     "data": {
      "text/html": [
       "<div>\n",
       "<style scoped>\n",
       "    .dataframe tbody tr th:only-of-type {\n",
       "        vertical-align: middle;\n",
       "    }\n",
       "\n",
       "    .dataframe tbody tr th {\n",
       "        vertical-align: top;\n",
       "    }\n",
       "\n",
       "    .dataframe thead th {\n",
       "        text-align: right;\n",
       "    }\n",
       "</style>\n",
       "<table border=\"1\" class=\"dataframe\">\n",
       "  <thead>\n",
       "    <tr style=\"text-align: right;\">\n",
       "      <th></th>\n",
       "      <th>recency</th>\n",
       "      <th>frequency</th>\n",
       "      <th>monetary</th>\n",
       "    </tr>\n",
       "  </thead>\n",
       "  <tbody>\n",
       "    <tr>\n",
       "      <th>0.25</th>\n",
       "      <td>2.0</td>\n",
       "      <td>3.0</td>\n",
       "      <td>9.705</td>\n",
       "    </tr>\n",
       "    <tr>\n",
       "      <th>0.50</th>\n",
       "      <td>4.0</td>\n",
       "      <td>8.0</td>\n",
       "      <td>28.910</td>\n",
       "    </tr>\n",
       "    <tr>\n",
       "      <th>0.75</th>\n",
       "      <td>9.0</td>\n",
       "      <td>22.0</td>\n",
       "      <td>77.850</td>\n",
       "    </tr>\n",
       "  </tbody>\n",
       "</table>\n",
       "</div>"
      ],
      "text/plain": [
       "      recency  frequency  monetary\n",
       "0.25      2.0        3.0     9.705\n",
       "0.50      4.0        8.0    28.910\n",
       "0.75      9.0       22.0    77.850"
      ]
     },
     "execution_count": 26,
     "metadata": {},
     "output_type": "execute_result"
    }
   ],
   "source": [
    "quantiles"
   ]
  },
  {
   "cell_type": "code",
   "execution_count": null,
   "metadata": {},
   "outputs": [],
   "source": []
  },
  {
   "cell_type": "code",
   "execution_count": 27,
   "metadata": {},
   "outputs": [],
   "source": [
    "result,columns = client.execute(\"\"\"select *\n",
    "from data_analysis.orders\n",
    "\"\"\",with_column_types=True)"
   ]
  },
  {
   "cell_type": "code",
   "execution_count": 28,
   "metadata": {},
   "outputs": [],
   "source": [
    "orders = pd.DataFrame(result, columns=[tuple[0] for tuple in columns])"
   ]
  },
  {
   "cell_type": "code",
   "execution_count": 29,
   "metadata": {},
   "outputs": [
    {
     "data": {
      "text/html": [
       "<div>\n",
       "<style scoped>\n",
       "    .dataframe tbody tr th:only-of-type {\n",
       "        vertical-align: middle;\n",
       "    }\n",
       "\n",
       "    .dataframe tbody tr th {\n",
       "        vertical-align: top;\n",
       "    }\n",
       "\n",
       "    .dataframe thead th {\n",
       "        text-align: right;\n",
       "    }\n",
       "</style>\n",
       "<table border=\"1\" class=\"dataframe\">\n",
       "  <thead>\n",
       "    <tr style=\"text-align: right;\">\n",
       "      <th></th>\n",
       "      <th>idhash_order</th>\n",
       "      <th>idhash_view</th>\n",
       "      <th>order_dttm</th>\n",
       "      <th>da_dttm</th>\n",
       "      <th>rfc_dttm</th>\n",
       "      <th>cc_dttm</th>\n",
       "      <th>finish_dttm</th>\n",
       "      <th>cancel_dttm</th>\n",
       "      <th>status</th>\n",
       "    </tr>\n",
       "  </thead>\n",
       "  <tbody>\n",
       "    <tr>\n",
       "      <th>0</th>\n",
       "      <td>3777115420</td>\n",
       "      <td>95199865</td>\n",
       "      <td>2015-12-06 00:00:09</td>\n",
       "      <td>2015-12-06 00:00:09</td>\n",
       "      <td>2015-12-06 00:03:31</td>\n",
       "      <td>2015-12-06 00:04:59</td>\n",
       "      <td>2015-12-06 00:10:06</td>\n",
       "      <td>NaT</td>\n",
       "      <td>CP</td>\n",
       "    </tr>\n",
       "    <tr>\n",
       "      <th>1</th>\n",
       "      <td>2983673012</td>\n",
       "      <td>3853062057</td>\n",
       "      <td>2015-12-06 00:00:11</td>\n",
       "      <td>2015-12-06 00:00:12</td>\n",
       "      <td>NaT</td>\n",
       "      <td>NaT</td>\n",
       "      <td>NaT</td>\n",
       "      <td>2015-12-06 00:01:26</td>\n",
       "      <td>CC</td>\n",
       "    </tr>\n",
       "    <tr>\n",
       "      <th>2</th>\n",
       "      <td>2177076394</td>\n",
       "      <td>147233410</td>\n",
       "      <td>2015-12-06 00:00:26</td>\n",
       "      <td>2015-12-06 00:00:37</td>\n",
       "      <td>2015-12-06 00:04:31</td>\n",
       "      <td>2015-12-06 00:07:06</td>\n",
       "      <td>2015-12-06 00:12:29</td>\n",
       "      <td>NaT</td>\n",
       "      <td>CP</td>\n",
       "    </tr>\n",
       "    <tr>\n",
       "      <th>3</th>\n",
       "      <td>1997846256</td>\n",
       "      <td>518227239</td>\n",
       "      <td>2015-12-06 00:00:32</td>\n",
       "      <td>2015-12-06 00:00:41</td>\n",
       "      <td>2015-12-06 00:04:04</td>\n",
       "      <td>2015-12-06 00:06:08</td>\n",
       "      <td>2015-12-06 00:17:11</td>\n",
       "      <td>NaT</td>\n",
       "      <td>CP</td>\n",
       "    </tr>\n",
       "    <tr>\n",
       "      <th>4</th>\n",
       "      <td>1893504594</td>\n",
       "      <td>3623774808</td>\n",
       "      <td>2015-12-06 00:01:07</td>\n",
       "      <td>2015-12-06 00:04:46</td>\n",
       "      <td>2015-12-06 00:11:35</td>\n",
       "      <td>2015-12-06 00:13:01</td>\n",
       "      <td>2015-12-06 00:29:43</td>\n",
       "      <td>NaT</td>\n",
       "      <td>CP</td>\n",
       "    </tr>\n",
       "  </tbody>\n",
       "</table>\n",
       "</div>"
      ],
      "text/plain": [
       "   idhash_order  idhash_view          order_dttm             da_dttm  \\\n",
       "0    3777115420     95199865 2015-12-06 00:00:09 2015-12-06 00:00:09   \n",
       "1    2983673012   3853062057 2015-12-06 00:00:11 2015-12-06 00:00:12   \n",
       "2    2177076394    147233410 2015-12-06 00:00:26 2015-12-06 00:00:37   \n",
       "3    1997846256    518227239 2015-12-06 00:00:32 2015-12-06 00:00:41   \n",
       "4    1893504594   3623774808 2015-12-06 00:01:07 2015-12-06 00:04:46   \n",
       "\n",
       "             rfc_dttm             cc_dttm         finish_dttm  \\\n",
       "0 2015-12-06 00:03:31 2015-12-06 00:04:59 2015-12-06 00:10:06   \n",
       "1                 NaT                 NaT                 NaT   \n",
       "2 2015-12-06 00:04:31 2015-12-06 00:07:06 2015-12-06 00:12:29   \n",
       "3 2015-12-06 00:04:04 2015-12-06 00:06:08 2015-12-06 00:17:11   \n",
       "4 2015-12-06 00:11:35 2015-12-06 00:13:01 2015-12-06 00:29:43   \n",
       "\n",
       "          cancel_dttm status  \n",
       "0                 NaT     CP  \n",
       "1 2015-12-06 00:01:26     CC  \n",
       "2                 NaT     CP  \n",
       "3                 NaT     CP  \n",
       "4                 NaT     CP  "
      ]
     },
     "execution_count": 29,
     "metadata": {},
     "output_type": "execute_result"
    }
   ],
   "source": [
    "orders.head()"
   ]
  },
  {
   "cell_type": "markdown",
   "metadata": {},
   "source": [
    "## Creating the RFM segmentation table"
   ]
  },
  {
   "cell_type": "code",
   "execution_count": 30,
   "metadata": {},
   "outputs": [],
   "source": [
    "rfmSegmentation = rfmTable"
   ]
  },
  {
   "cell_type": "code",
   "execution_count": 31,
   "metadata": {},
   "outputs": [],
   "source": [
    "def RClass(x,p,d):\n",
    "    if x <= d[p][0.25]:\n",
    "        return 1\n",
    "    elif x <= d[p][0.50]:\n",
    "        return 2\n",
    "    elif x <= d[p][0.75]: \n",
    "        return 3\n",
    "    else:\n",
    "        return 4\n",
    "    \n",
    "# Arguments (x = value, p = recency, monetary_value, frequency, k = quartiles dict)\n",
    "def FMClass(x,p,d):\n",
    "    if x <= d[p][0.25]:\n",
    "        return 4\n",
    "    elif x <= d[p][0.50]:\n",
    "        return 3\n",
    "    elif x <= d[p][0.75]: \n",
    "        return 2\n",
    "    else:\n",
    "        return 1"
   ]
  },
  {
   "cell_type": "code",
   "execution_count": 32,
   "metadata": {},
   "outputs": [],
   "source": [
    "rfmSegmentation['R_Quartile'] = rfmSegmentation['recency'].apply(RClass, args=('recency',quantiles,))\n",
    "rfmSegmentation['F_Quartile'] = rfmSegmentation['frequency'].apply(FMClass, args=('frequency',quantiles,))\n",
    "rfmSegmentation['M_Quartile'] = rfmSegmentation['monetary'].apply(FMClass, args=('monetary',quantiles,))"
   ]
  },
  {
   "cell_type": "code",
   "execution_count": 33,
   "metadata": {},
   "outputs": [],
   "source": [
    "rfmSegmentation['RFMClass'] = rfmSegmentation.R_Quartile.map(str) \\\n",
    "                            + rfmSegmentation.F_Quartile.map(str) \\\n",
    "                            + rfmSegmentation.M_Quartile.map(str)"
   ]
  },
  {
   "cell_type": "code",
   "execution_count": 34,
   "metadata": {},
   "outputs": [
    {
     "data": {
      "text/html": [
       "<div>\n",
       "<style scoped>\n",
       "    .dataframe tbody tr th:only-of-type {\n",
       "        vertical-align: middle;\n",
       "    }\n",
       "\n",
       "    .dataframe tbody tr th {\n",
       "        vertical-align: top;\n",
       "    }\n",
       "\n",
       "    .dataframe thead th {\n",
       "        text-align: right;\n",
       "    }\n",
       "</style>\n",
       "<table border=\"1\" class=\"dataframe\">\n",
       "  <thead>\n",
       "    <tr style=\"text-align: right;\">\n",
       "      <th></th>\n",
       "      <th>recency</th>\n",
       "      <th>frequency</th>\n",
       "      <th>monetary</th>\n",
       "      <th>date</th>\n",
       "      <th>R_Quartile</th>\n",
       "      <th>F_Quartile</th>\n",
       "      <th>M_Quartile</th>\n",
       "      <th>RFMClass</th>\n",
       "    </tr>\n",
       "  </thead>\n",
       "  <tbody>\n",
       "    <tr>\n",
       "      <th>0</th>\n",
       "      <td>0</td>\n",
       "      <td>25</td>\n",
       "      <td>54.655</td>\n",
       "      <td>0 days</td>\n",
       "      <td>1</td>\n",
       "      <td>1</td>\n",
       "      <td>2</td>\n",
       "      <td>112</td>\n",
       "    </tr>\n",
       "    <tr>\n",
       "      <th>1</th>\n",
       "      <td>5</td>\n",
       "      <td>4</td>\n",
       "      <td>13.250</td>\n",
       "      <td>5 days</td>\n",
       "      <td>3</td>\n",
       "      <td>3</td>\n",
       "      <td>3</td>\n",
       "      <td>333</td>\n",
       "    </tr>\n",
       "    <tr>\n",
       "      <th>2</th>\n",
       "      <td>0</td>\n",
       "      <td>10</td>\n",
       "      <td>36.510</td>\n",
       "      <td>0 days</td>\n",
       "      <td>1</td>\n",
       "      <td>2</td>\n",
       "      <td>2</td>\n",
       "      <td>122</td>\n",
       "    </tr>\n",
       "    <tr>\n",
       "      <th>3</th>\n",
       "      <td>0</td>\n",
       "      <td>6</td>\n",
       "      <td>30.540</td>\n",
       "      <td>0 days</td>\n",
       "      <td>1</td>\n",
       "      <td>3</td>\n",
       "      <td>2</td>\n",
       "      <td>132</td>\n",
       "    </tr>\n",
       "    <tr>\n",
       "      <th>4</th>\n",
       "      <td>0</td>\n",
       "      <td>6</td>\n",
       "      <td>23.570</td>\n",
       "      <td>0 days</td>\n",
       "      <td>1</td>\n",
       "      <td>3</td>\n",
       "      <td>3</td>\n",
       "      <td>133</td>\n",
       "    </tr>\n",
       "  </tbody>\n",
       "</table>\n",
       "</div>"
      ],
      "text/plain": [
       "   recency  frequency  monetary   date  R_Quartile  F_Quartile  M_Quartile  \\\n",
       "0        0         25    54.655 0 days           1           1           2   \n",
       "1        5          4    13.250 5 days           3           3           3   \n",
       "2        0         10    36.510 0 days           1           2           2   \n",
       "3        0          6    30.540 0 days           1           3           2   \n",
       "4        0          6    23.570 0 days           1           3           3   \n",
       "\n",
       "  RFMClass  \n",
       "0      112  \n",
       "1      333  \n",
       "2      122  \n",
       "3      132  \n",
       "4      133  "
      ]
     },
     "execution_count": 34,
     "metadata": {},
     "output_type": "execute_result"
    }
   ],
   "source": [
    "rfmSegmentation.head()"
   ]
  },
  {
   "cell_type": "markdown",
   "metadata": {},
   "source": [
    "Топ 5 клиентов, которые больше всего тратят и покупают в последнее время\n",
    "(id клиента можно найти исходя из RFM данных)"
   ]
  },
  {
   "cell_type": "code",
   "execution_count": 35,
   "metadata": {},
   "outputs": [
    {
     "data": {
      "text/html": [
       "<div>\n",
       "<style scoped>\n",
       "    .dataframe tbody tr th:only-of-type {\n",
       "        vertical-align: middle;\n",
       "    }\n",
       "\n",
       "    .dataframe tbody tr th {\n",
       "        vertical-align: top;\n",
       "    }\n",
       "\n",
       "    .dataframe thead th {\n",
       "        text-align: right;\n",
       "    }\n",
       "</style>\n",
       "<table border=\"1\" class=\"dataframe\">\n",
       "  <thead>\n",
       "    <tr style=\"text-align: right;\">\n",
       "      <th></th>\n",
       "      <th>recency</th>\n",
       "      <th>frequency</th>\n",
       "      <th>monetary</th>\n",
       "      <th>date</th>\n",
       "      <th>R_Quartile</th>\n",
       "      <th>F_Quartile</th>\n",
       "      <th>M_Quartile</th>\n",
       "      <th>RFMClass</th>\n",
       "    </tr>\n",
       "  </thead>\n",
       "  <tbody>\n",
       "    <tr>\n",
       "      <th>39272</th>\n",
       "      <td>2</td>\n",
       "      <td>274</td>\n",
       "      <td>1795.860</td>\n",
       "      <td>2 days</td>\n",
       "      <td>1</td>\n",
       "      <td>1</td>\n",
       "      <td>1</td>\n",
       "      <td>111</td>\n",
       "    </tr>\n",
       "    <tr>\n",
       "      <th>29952</th>\n",
       "      <td>0</td>\n",
       "      <td>135</td>\n",
       "      <td>472.040</td>\n",
       "      <td>0 days</td>\n",
       "      <td>1</td>\n",
       "      <td>1</td>\n",
       "      <td>1</td>\n",
       "      <td>111</td>\n",
       "    </tr>\n",
       "    <tr>\n",
       "      <th>38575</th>\n",
       "      <td>2</td>\n",
       "      <td>25</td>\n",
       "      <td>104.565</td>\n",
       "      <td>2 days</td>\n",
       "      <td>1</td>\n",
       "      <td>1</td>\n",
       "      <td>1</td>\n",
       "      <td>111</td>\n",
       "    </tr>\n",
       "    <tr>\n",
       "      <th>29951</th>\n",
       "      <td>0</td>\n",
       "      <td>111</td>\n",
       "      <td>456.380</td>\n",
       "      <td>0 days</td>\n",
       "      <td>1</td>\n",
       "      <td>1</td>\n",
       "      <td>1</td>\n",
       "      <td>111</td>\n",
       "    </tr>\n",
       "    <tr>\n",
       "      <th>38576</th>\n",
       "      <td>0</td>\n",
       "      <td>58</td>\n",
       "      <td>177.260</td>\n",
       "      <td>0 days</td>\n",
       "      <td>1</td>\n",
       "      <td>1</td>\n",
       "      <td>1</td>\n",
       "      <td>111</td>\n",
       "    </tr>\n",
       "  </tbody>\n",
       "</table>\n",
       "</div>"
      ],
      "text/plain": [
       "       recency  frequency  monetary   date  R_Quartile  F_Quartile  \\\n",
       "39272        2        274  1795.860 2 days           1           1   \n",
       "29952        0        135   472.040 0 days           1           1   \n",
       "38575        2         25   104.565 2 days           1           1   \n",
       "29951        0        111   456.380 0 days           1           1   \n",
       "38576        0         58   177.260 0 days           1           1   \n",
       "\n",
       "       M_Quartile RFMClass  \n",
       "39272           1      111  \n",
       "29952           1      111  \n",
       "38575           1      111  \n",
       "29951           1      111  \n",
       "38576           1      111  "
      ]
     },
     "execution_count": 35,
     "metadata": {},
     "output_type": "execute_result"
    }
   ],
   "source": [
    "rfmSegmentation.sort_values(by='RFMClass', ascending=True).head() #top 5"
   ]
  },
  {
   "cell_type": "code",
   "execution_count": 36,
   "metadata": {},
   "outputs": [
    {
     "data": {
      "text/plain": [
       "<matplotlib.axes._subplots.AxesSubplot at 0xe89a820>"
      ]
     },
     "execution_count": 36,
     "metadata": {},
     "output_type": "execute_result"
    },
    {
     "data": {
      "image/png": "[encoded data removed]",
      "text/plain": [
       "<Figure size 432x288 with 2 Axes>"
      ]
     },
     "metadata": {
      "needs_background": "light"
     },
     "output_type": "display_data"
    }
   ],
   "source": [
    "sns.heatmap(rfmSegmentation.iloc[:, 0:7].corr())"
   ]
  },
  {
   "cell_type": "code",
   "execution_count": 37,
   "metadata": {},
   "outputs": [
    {
     "data": {
      "text/plain": [
       "<matplotlib.axes._subplots.AxesSubplot at 0x1da19a18>"
      ]
     },
     "execution_count": 37,
     "metadata": {},
     "output_type": "execute_result"
    },
    {
     "data": {
      "image/png": "[encoded data removed]",
      "text/plain": [
       "<Figure size 432x288 with 2 Axes>"
      ]
     },
     "metadata": {
      "needs_background": "light"
     },
     "output_type": "display_data"
    }
   ],
   "source": [
    "sns.heatmap(rfmSegmentation.iloc[:, 0:3].corr())"
   ]
  },
  {
   "cell_type": "markdown",
   "metadata": {},
   "source": [
    "# Кластеризация"
   ]
  },
  {
   "cell_type": "code",
   "execution_count": 38,
   "metadata": {},
   "outputs": [],
   "source": [
    "ssd = []\n",
    "range_n_clusters = [2,3,4,5,6,7,8,9,10]\n",
    "for num_clusters in range_n_clusters:\n",
    "    kmeans = KMeans(n_clusters=num_clusters, max_iter=100)\n",
    "    kmeans.fit(rfmTable[['R_Quartile', 'F_Quartile', 'M_Quartile']])\n",
    "    #kmeans.fit(rfmSegmentation[['R_Quartile','F_Quartile', 'M_Quartile']])\n",
    "    \n",
    "    ssd.append(kmeans.inertia_)"
   ]
  },
  {
   "cell_type": "code",
   "execution_count": 39,
   "metadata": {},
   "outputs": [
    {
     "data": {
      "image/png": "[encoded data removed]",
      "text/plain": [
       "<Figure size 1080x432 with 1 Axes>"
      ]
     },
     "metadata": {
      "needs_background": "light"
     },
     "output_type": "display_data"
    }
   ],
   "source": [
    "plt.figure(1 , figsize = (15 ,6))\n",
    "plt.plot(ssd , '*')\n",
    "plt.plot(ssd , '-' , alpha = 0.5)\n",
    "plt.xlabel('Number of Clusters') , plt.ylabel('Score')\n",
    "plt.show()"
   ]
  },
  {
   "cell_type": "code",
   "execution_count": 40,
   "metadata": {},
   "outputs": [],
   "source": [
    "#rfmTable_norm = pd.DataFrame()\n",
    "#rfmTable.iloc[:, 4:7]"
   ]
  },
  {
   "cell_type": "code",
   "execution_count": 41,
   "metadata": {},
   "outputs": [],
   "source": [
    "model = KMeans(n_clusters = 3, init ='k-means++',max_iter=1000,n_init=100,algorithm = 'elkan').fit(rfmTable.iloc[:, 4:7])\n",
    "centers  = kmeans.cluster_centers_"
   ]
  },
  {
   "cell_type": "code",
   "execution_count": 42,
   "metadata": {},
   "outputs": [
    {
     "data": {
      "image/png": "[encoded data removed]",
      "text/plain": [
       "<Figure size 1332x756 with 2 Axes>"
      ]
     },
     "metadata": {
      "needs_background": "light"
     },
     "output_type": "display_data"
    }
   ],
   "source": [
    "fig, ax = plt.subplots()\n",
    "fig.set_size_inches(18.5, 10.5)\n",
    "ax = fig.add_subplot(111, projection = '3d')\n",
    "scatter = ax.scatter( rfmTable['R_Quartile'], rfmTable['F_Quartile'], rfmTable['M_Quartile'], \n",
    "                     #c = rfmTable['M_Quartile'])#,monetary,frequency \n",
    "                     c = model.predict(rfmTable.iloc[:, 4:7]))\n",
    "plt.show()"
   ]
  },
  {
   "cell_type": "code",
   "execution_count": 43,
   "metadata": {},
   "outputs": [],
   "source": [
    "labels = list(model.predict(rfmTable.iloc[:, 4:7]))"
   ]
  },
  {
   "cell_type": "code",
   "execution_count": 44,
   "metadata": {},
   "outputs": [],
   "source": [
    "d = {'cluster_label':[0,1,2],'center':[centers[i] for i in set(labels)]}"
   ]
  },
  {
   "cell_type": "code",
   "execution_count": 45,
   "metadata": {},
   "outputs": [],
   "source": [
    "center_info = pd.DataFrame(d)"
   ]
  },
  {
   "cell_type": "code",
   "execution_count": 46,
   "metadata": {},
   "outputs": [
    {
     "data": {
      "text/html": [
       "<div>\n",
       "<style scoped>\n",
       "    .dataframe tbody tr th:only-of-type {\n",
       "        vertical-align: middle;\n",
       "    }\n",
       "\n",
       "    .dataframe tbody tr th {\n",
       "        vertical-align: top;\n",
       "    }\n",
       "\n",
       "    .dataframe thead th {\n",
       "        text-align: right;\n",
       "    }\n",
       "</style>\n",
       "<table border=\"1\" class=\"dataframe\">\n",
       "  <thead>\n",
       "    <tr style=\"text-align: right;\">\n",
       "      <th></th>\n",
       "      <th>cluster_label</th>\n",
       "      <th>center</th>\n",
       "    </tr>\n",
       "  </thead>\n",
       "  <tbody>\n",
       "    <tr>\n",
       "      <th>0</th>\n",
       "      <td>0</td>\n",
       "      <td>[1.0000000000000495, 1.1697385340762323, 1.159...</td>\n",
       "    </tr>\n",
       "    <tr>\n",
       "      <th>1</th>\n",
       "      <td>1</td>\n",
       "      <td>[4.000000000000029, 3.8620215448085515, 3.7524...</td>\n",
       "    </tr>\n",
       "    <tr>\n",
       "      <th>2</th>\n",
       "      <td>2</td>\n",
       "      <td>[3.3504163997437324, 2.6504377535767674, 3.287...</td>\n",
       "    </tr>\n",
       "  </tbody>\n",
       "</table>\n",
       "</div>"
      ],
      "text/plain": [
       "   cluster_label                                             center\n",
       "0              0  [1.0000000000000495, 1.1697385340762323, 1.159...\n",
       "1              1  [4.000000000000029, 3.8620215448085515, 3.7524...\n",
       "2              2  [3.3504163997437324, 2.6504377535767674, 3.287..."
      ]
     },
     "execution_count": 46,
     "metadata": {},
     "output_type": "execute_result"
    }
   ],
   "source": [
    "center_info"
   ]
  },
  {
   "cell_type": "markdown",
   "metadata": {},
   "source": [
    "3) считаем следующие метрики:\n",
    "* View2Order (orders/views) по сегментам и в динамике по дням и времени суток (разделить сутки на утро-день-вечер-ночь);\n",
    "* Средний чек в разбивке по сегментам и городам;\n",
    "* Order2Ride (исполняемость) - rides/orders;\n",
    "* IQR по клиентскому чеку в разбивке по городу и сегменту."
   ]
  },
  {
   "cell_type": "code",
   "execution_count": 47,
   "metadata": {},
   "outputs": [],
   "source": [
    "rfmTable['client'] = a.keys()"
   ]
  },
  {
   "cell_type": "code",
   "execution_count": 48,
   "metadata": {},
   "outputs": [
    {
     "data": {
      "text/html": [
       "<div>\n",
       "<style scoped>\n",
       "    .dataframe tbody tr th:only-of-type {\n",
       "        vertical-align: middle;\n",
       "    }\n",
       "\n",
       "    .dataframe tbody tr th {\n",
       "        vertical-align: top;\n",
       "    }\n",
       "\n",
       "    .dataframe thead th {\n",
       "        text-align: right;\n",
       "    }\n",
       "</style>\n",
       "<table border=\"1\" class=\"dataframe\">\n",
       "  <thead>\n",
       "    <tr style=\"text-align: right;\">\n",
       "      <th></th>\n",
       "      <th>recency</th>\n",
       "      <th>frequency</th>\n",
       "      <th>monetary</th>\n",
       "      <th>date</th>\n",
       "      <th>R_Quartile</th>\n",
       "      <th>F_Quartile</th>\n",
       "      <th>M_Quartile</th>\n",
       "      <th>RFMClass</th>\n",
       "      <th>client</th>\n",
       "    </tr>\n",
       "  </thead>\n",
       "  <tbody>\n",
       "    <tr>\n",
       "      <th>0</th>\n",
       "      <td>0</td>\n",
       "      <td>25</td>\n",
       "      <td>54.655</td>\n",
       "      <td>0 days</td>\n",
       "      <td>1</td>\n",
       "      <td>1</td>\n",
       "      <td>2</td>\n",
       "      <td>112</td>\n",
       "      <td>39262</td>\n",
       "    </tr>\n",
       "    <tr>\n",
       "      <th>1</th>\n",
       "      <td>5</td>\n",
       "      <td>4</td>\n",
       "      <td>13.250</td>\n",
       "      <td>5 days</td>\n",
       "      <td>3</td>\n",
       "      <td>3</td>\n",
       "      <td>3</td>\n",
       "      <td>333</td>\n",
       "      <td>48902</td>\n",
       "    </tr>\n",
       "    <tr>\n",
       "      <th>2</th>\n",
       "      <td>0</td>\n",
       "      <td>10</td>\n",
       "      <td>36.510</td>\n",
       "      <td>0 days</td>\n",
       "      <td>1</td>\n",
       "      <td>2</td>\n",
       "      <td>2</td>\n",
       "      <td>122</td>\n",
       "      <td>199395</td>\n",
       "    </tr>\n",
       "    <tr>\n",
       "      <th>3</th>\n",
       "      <td>0</td>\n",
       "      <td>6</td>\n",
       "      <td>30.540</td>\n",
       "      <td>0 days</td>\n",
       "      <td>1</td>\n",
       "      <td>3</td>\n",
       "      <td>2</td>\n",
       "      <td>132</td>\n",
       "      <td>420016</td>\n",
       "    </tr>\n",
       "    <tr>\n",
       "      <th>4</th>\n",
       "      <td>0</td>\n",
       "      <td>6</td>\n",
       "      <td>23.570</td>\n",
       "      <td>0 days</td>\n",
       "      <td>1</td>\n",
       "      <td>3</td>\n",
       "      <td>3</td>\n",
       "      <td>133</td>\n",
       "      <td>658957</td>\n",
       "    </tr>\n",
       "  </tbody>\n",
       "</table>\n",
       "</div>"
      ],
      "text/plain": [
       "   recency  frequency  monetary   date  R_Quartile  F_Quartile  M_Quartile  \\\n",
       "0        0         25    54.655 0 days           1           1           2   \n",
       "1        5          4    13.250 5 days           3           3           3   \n",
       "2        0         10    36.510 0 days           1           2           2   \n",
       "3        0          6    30.540 0 days           1           3           2   \n",
       "4        0          6    23.570 0 days           1           3           3   \n",
       "\n",
       "  RFMClass  client  \n",
       "0      112   39262  \n",
       "1      333   48902  \n",
       "2      122  199395  \n",
       "3      132  420016  \n",
       "4      133  658957  "
      ]
     },
     "execution_count": 48,
     "metadata": {},
     "output_type": "execute_result"
    }
   ],
   "source": [
    "rfmTable.head()"
   ]
  },
  {
   "cell_type": "code",
   "execution_count": 49,
   "metadata": {},
   "outputs": [],
   "source": [
    "#rfmTable['lala'] = list(labels)"
   ]
  },
  {
   "cell_type": "code",
   "execution_count": 50,
   "metadata": {},
   "outputs": [],
   "source": [
    "clusters = np.repeat(labels, b)"
   ]
  },
  {
   "cell_type": "code",
   "execution_count": 51,
   "metadata": {},
   "outputs": [],
   "source": [
    "mt = np.repeat(tm, b)"
   ]
  },
  {
   "cell_type": "code",
   "execution_count": 52,
   "metadata": {},
   "outputs": [],
   "source": [
    "df['recency'] = list(mt)"
   ]
  },
  {
   "cell_type": "code",
   "execution_count": 53,
   "metadata": {},
   "outputs": [],
   "source": [
    "df['clusters'] = list(clusters)"
   ]
  },
  {
   "cell_type": "code",
   "execution_count": 54,
   "metadata": {},
   "outputs": [],
   "source": [
    "df['date'] = df['recency'].dt.date"
   ]
  },
  {
   "cell_type": "code",
   "execution_count": 55,
   "metadata": {},
   "outputs": [],
   "source": [
    "df['date'] = df.date.max() - df['date']"
   ]
  },
  {
   "cell_type": "code",
   "execution_count": 56,
   "metadata": {},
   "outputs": [],
   "source": [
    "df['recency'] = df['date'].dt.days"
   ]
  },
  {
   "cell_type": "code",
   "execution_count": 57,
   "metadata": {},
   "outputs": [],
   "source": [
    "#df.sort_values(by=['idhash_client','view_dttm'], ascending=False)\n",
    "df = df.drop('date',axis = 1)"
   ]
  },
  {
   "cell_type": "code",
   "execution_count": 58,
   "metadata": {},
   "outputs": [],
   "source": [
    "#list(rfmTable['R_Quartile'])"
   ]
  },
  {
   "cell_type": "code",
   "execution_count": 59,
   "metadata": {},
   "outputs": [],
   "source": [
    "df['R_Quartile'] = np.repeat(list(rfmTable['R_Quartile']), b)\n",
    "df['F_Quartile'] = np.repeat(list(rfmTable['F_Quartile']), b)\n",
    "df['M_Quartile'] = np.repeat(list(rfmTable['M_Quartile']), b)\n",
    "df['RFMClass'] = np.repeat(list(rfmTable['RFMClass']), b)"
   ]
  },
  {
   "cell_type": "code",
   "execution_count": 60,
   "metadata": {},
   "outputs": [
    {
     "data": {
      "text/html": [
       "<div>\n",
       "<style scoped>\n",
       "    .dataframe tbody tr th:only-of-type {\n",
       "        vertical-align: middle;\n",
       "    }\n",
       "\n",
       "    .dataframe tbody tr th {\n",
       "        vertical-align: top;\n",
       "    }\n",
       "\n",
       "    .dataframe thead th {\n",
       "        text-align: right;\n",
       "    }\n",
       "</style>\n",
       "<table border=\"1\" class=\"dataframe\">\n",
       "  <thead>\n",
       "    <tr style=\"text-align: right;\">\n",
       "      <th></th>\n",
       "      <th>idhash_view</th>\n",
       "      <th>view_dttm</th>\n",
       "      <th>tariff</th>\n",
       "      <th>idhash_order</th>\n",
       "      <th>idhash_client</th>\n",
       "      <th>client_bill_usd</th>\n",
       "      <th>latitude</th>\n",
       "      <th>longitude</th>\n",
       "      <th>del_latitude</th>\n",
       "      <th>del_longitude</th>\n",
       "      <th>monetary</th>\n",
       "      <th>frequency</th>\n",
       "      <th>recency</th>\n",
       "      <th>clusters</th>\n",
       "      <th>R_Quartile</th>\n",
       "      <th>F_Quartile</th>\n",
       "      <th>M_Quartile</th>\n",
       "      <th>RFMClass</th>\n",
       "    </tr>\n",
       "  </thead>\n",
       "  <tbody>\n",
       "    <tr>\n",
       "      <th>73332</th>\n",
       "      <td>2007943777</td>\n",
       "      <td>2015-12-08 22:28:51</td>\n",
       "      <td>Эконом</td>\n",
       "      <td>0</td>\n",
       "      <td>39262</td>\n",
       "      <td>1.86</td>\n",
       "      <td>57.584282</td>\n",
       "      <td>39.825794</td>\n",
       "      <td>57.584214</td>\n",
       "      <td>39.839829</td>\n",
       "      <td>54.655</td>\n",
       "      <td>25</td>\n",
       "      <td>0</td>\n",
       "      <td>0</td>\n",
       "      <td>1</td>\n",
       "      <td>1</td>\n",
       "      <td>2</td>\n",
       "      <td>112</td>\n",
       "    </tr>\n",
       "    <tr>\n",
       "      <th>239922</th>\n",
       "      <td>1953603055</td>\n",
       "      <td>2015-12-15 22:50:07</td>\n",
       "      <td>Эконом</td>\n",
       "      <td>0</td>\n",
       "      <td>39262</td>\n",
       "      <td>2.20</td>\n",
       "      <td>57.584267</td>\n",
       "      <td>39.825745</td>\n",
       "      <td>57.584214</td>\n",
       "      <td>39.839829</td>\n",
       "      <td>54.655</td>\n",
       "      <td>25</td>\n",
       "      <td>0</td>\n",
       "      <td>0</td>\n",
       "      <td>1</td>\n",
       "      <td>1</td>\n",
       "      <td>2</td>\n",
       "      <td>112</td>\n",
       "    </tr>\n",
       "    <tr>\n",
       "      <th>410722</th>\n",
       "      <td>3884522691</td>\n",
       "      <td>2015-12-12 22:53:33</td>\n",
       "      <td>Эконом</td>\n",
       "      <td>0</td>\n",
       "      <td>39262</td>\n",
       "      <td>1.72</td>\n",
       "      <td>57.584267</td>\n",
       "      <td>39.825745</td>\n",
       "      <td>57.584214</td>\n",
       "      <td>39.839829</td>\n",
       "      <td>54.655</td>\n",
       "      <td>25</td>\n",
       "      <td>0</td>\n",
       "      <td>0</td>\n",
       "      <td>1</td>\n",
       "      <td>1</td>\n",
       "      <td>2</td>\n",
       "      <td>112</td>\n",
       "    </tr>\n",
       "    <tr>\n",
       "      <th>238269</th>\n",
       "      <td>1032456928</td>\n",
       "      <td>2015-12-15 22:31:55</td>\n",
       "      <td>Эконом</td>\n",
       "      <td>0</td>\n",
       "      <td>39262</td>\n",
       "      <td>1.46</td>\n",
       "      <td>57.584267</td>\n",
       "      <td>39.825745</td>\n",
       "      <td>57.584214</td>\n",
       "      <td>39.839829</td>\n",
       "      <td>54.655</td>\n",
       "      <td>25</td>\n",
       "      <td>0</td>\n",
       "      <td>0</td>\n",
       "      <td>1</td>\n",
       "      <td>1</td>\n",
       "      <td>2</td>\n",
       "      <td>112</td>\n",
       "    </tr>\n",
       "    <tr>\n",
       "      <th>241018</th>\n",
       "      <td>646195412</td>\n",
       "      <td>2015-12-15 23:02:04</td>\n",
       "      <td>Эконом</td>\n",
       "      <td>0</td>\n",
       "      <td>39262</td>\n",
       "      <td>1.46</td>\n",
       "      <td>57.584267</td>\n",
       "      <td>39.825745</td>\n",
       "      <td>57.584214</td>\n",
       "      <td>39.839829</td>\n",
       "      <td>54.655</td>\n",
       "      <td>25</td>\n",
       "      <td>0</td>\n",
       "      <td>0</td>\n",
       "      <td>1</td>\n",
       "      <td>1</td>\n",
       "      <td>2</td>\n",
       "      <td>112</td>\n",
       "    </tr>\n",
       "  </tbody>\n",
       "</table>\n",
       "</div>"
      ],
      "text/plain": [
       "        idhash_view           view_dttm  tariff  idhash_order  idhash_client  \\\n",
       "73332    2007943777 2015-12-08 22:28:51  Эконом             0          39262   \n",
       "239922   1953603055 2015-12-15 22:50:07  Эконом             0          39262   \n",
       "410722   3884522691 2015-12-12 22:53:33  Эконом             0          39262   \n",
       "238269   1032456928 2015-12-15 22:31:55  Эконом             0          39262   \n",
       "241018    646195412 2015-12-15 23:02:04  Эконом             0          39262   \n",
       "\n",
       "        client_bill_usd   latitude  longitude  del_latitude  del_longitude  \\\n",
       "73332              1.86  57.584282  39.825794     57.584214      39.839829   \n",
       "239922             2.20  57.584267  39.825745     57.584214      39.839829   \n",
       "410722             1.72  57.584267  39.825745     57.584214      39.839829   \n",
       "238269             1.46  57.584267  39.825745     57.584214      39.839829   \n",
       "241018             1.46  57.584267  39.825745     57.584214      39.839829   \n",
       "\n",
       "        monetary  frequency  recency  clusters  R_Quartile  F_Quartile  \\\n",
       "73332     54.655         25        0         0           1           1   \n",
       "239922    54.655         25        0         0           1           1   \n",
       "410722    54.655         25        0         0           1           1   \n",
       "238269    54.655         25        0         0           1           1   \n",
       "241018    54.655         25        0         0           1           1   \n",
       "\n",
       "        M_Quartile RFMClass  \n",
       "73332            2      112  \n",
       "239922           2      112  \n",
       "410722           2      112  \n",
       "238269           2      112  \n",
       "241018           2      112  "
      ]
     },
     "execution_count": 60,
     "metadata": {},
     "output_type": "execute_result"
    }
   ],
   "source": [
    "df.head()"
   ]
  },
  {
   "cell_type": "markdown",
   "metadata": {},
   "source": [
    "#### View2Order по сегментам"
   ]
  },
  {
   "cell_type": "code",
   "execution_count": 61,
   "metadata": {},
   "outputs": [],
   "source": [
    "view1 = df.groupby(['clusters'])['idhash_view'].count()"
   ]
  },
  {
   "cell_type": "code",
   "execution_count": 62,
   "metadata": {},
   "outputs": [],
   "source": [
    "df = df[df['idhash_order'] != 0]"
   ]
  },
  {
   "cell_type": "code",
   "execution_count": 63,
   "metadata": {},
   "outputs": [],
   "source": [
    "order1 = df.groupby(['clusters'])['idhash_order'].count()"
   ]
  },
  {
   "cell_type": "code",
   "execution_count": 64,
   "metadata": {},
   "outputs": [],
   "source": [
    "View2Order_cluster = pd.DataFrame()"
   ]
  },
  {
   "cell_type": "code",
   "execution_count": 65,
   "metadata": {},
   "outputs": [],
   "source": [
    "View2Order_cluster['cluster'] =view1.keys()\n",
    "View2Order_cluster['views'] = list(view1)\n",
    "View2Order_cluster['orders'] = list(order1)"
   ]
  },
  {
   "cell_type": "code",
   "execution_count": 66,
   "metadata": {},
   "outputs": [
    {
     "data": {
      "text/html": [
       "<div>\n",
       "<style scoped>\n",
       "    .dataframe tbody tr th:only-of-type {\n",
       "        vertical-align: middle;\n",
       "    }\n",
       "\n",
       "    .dataframe tbody tr th {\n",
       "        vertical-align: top;\n",
       "    }\n",
       "\n",
       "    .dataframe thead th {\n",
       "        text-align: right;\n",
       "    }\n",
       "</style>\n",
       "<table border=\"1\" class=\"dataframe\">\n",
       "  <thead>\n",
       "    <tr style=\"text-align: right;\">\n",
       "      <th></th>\n",
       "      <th>cluster</th>\n",
       "      <th>views</th>\n",
       "      <th>orders</th>\n",
       "    </tr>\n",
       "  </thead>\n",
       "  <tbody>\n",
       "    <tr>\n",
       "      <th>0</th>\n",
       "      <td>0</td>\n",
       "      <td>768573</td>\n",
       "      <td>59815</td>\n",
       "    </tr>\n",
       "    <tr>\n",
       "      <th>1</th>\n",
       "      <td>1</td>\n",
       "      <td>80823</td>\n",
       "      <td>10751</td>\n",
       "    </tr>\n",
       "    <tr>\n",
       "      <th>2</th>\n",
       "      <td>2</td>\n",
       "      <td>54145</td>\n",
       "      <td>8651</td>\n",
       "    </tr>\n",
       "  </tbody>\n",
       "</table>\n",
       "</div>"
      ],
      "text/plain": [
       "   cluster   views  orders\n",
       "0        0  768573   59815\n",
       "1        1   80823   10751\n",
       "2        2   54145    8651"
      ]
     },
     "execution_count": 66,
     "metadata": {},
     "output_type": "execute_result"
    }
   ],
   "source": [
    "View2Order_cluster"
   ]
  },
  {
   "cell_type": "code",
   "execution_count": 67,
   "metadata": {},
   "outputs": [
    {
     "data": {
      "image/png": "[encoded data removed]",
      "text/plain": [
       "<Figure size 432x288 with 1 Axes>"
      ]
     },
     "metadata": {
      "needs_background": "light"
     },
     "output_type": "display_data"
    }
   ],
   "source": [
    "View2Order_cluster.iloc[:, 1:3].plot(kind='bar')\n",
    "plt.xlabel('Cluster')\n",
    "plt.ylabel('Numbers')\n",
    "plt.show()"
   ]
  },
  {
   "cell_type": "code",
   "execution_count": 68,
   "metadata": {},
   "outputs": [
    {
     "data": {
      "image/png": "[encoded data removed]",
      "text/plain": [
       "<Figure size 432x432 with 1 Axes>"
      ]
     },
     "metadata": {},
     "output_type": "display_data"
    }
   ],
   "source": [
    "View2Order_cluster['views'].plot(kind='pie', autopct = \"%.2f%%\", textprops={'color':\"w\"}, figsize=(6,6))\n",
    "plt.title('Views in clusters', color = 'w')\n",
    "plt.show()"
   ]
  },
  {
   "cell_type": "markdown",
   "metadata": {},
   "source": [
    "#### View2Order по дням"
   ]
  },
  {
   "cell_type": "code",
   "execution_count": 69,
   "metadata": {},
   "outputs": [],
   "source": [
    "view2 = df.groupby(['recency'])['idhash_view'].count()"
   ]
  },
  {
   "cell_type": "code",
   "execution_count": 70,
   "metadata": {},
   "outputs": [],
   "source": [
    "order2 = df.groupby(['recency'])['idhash_order'].count()"
   ]
  },
  {
   "cell_type": "code",
   "execution_count": 71,
   "metadata": {},
   "outputs": [],
   "source": [
    "View2Order_days = pd.DataFrame()"
   ]
  },
  {
   "cell_type": "code",
   "execution_count": 72,
   "metadata": {},
   "outputs": [],
   "source": [
    "View2Order_days['days'] =view2.keys()\n",
    "View2Order_days['views'] = list(view2)\n",
    "View2Order_days['orders'] = list(order2)"
   ]
  },
  {
   "cell_type": "markdown",
   "metadata": {},
   "source": [
    "дни отсчитаны начиная с даты 2015-12-19"
   ]
  },
  {
   "cell_type": "code",
   "execution_count": 73,
   "metadata": {},
   "outputs": [
    {
     "data": {
      "text/html": [
       "<div>\n",
       "<style scoped>\n",
       "    .dataframe tbody tr th:only-of-type {\n",
       "        vertical-align: middle;\n",
       "    }\n",
       "\n",
       "    .dataframe tbody tr th {\n",
       "        vertical-align: top;\n",
       "    }\n",
       "\n",
       "    .dataframe thead th {\n",
       "        text-align: right;\n",
       "    }\n",
       "</style>\n",
       "<table border=\"1\" class=\"dataframe\">\n",
       "  <thead>\n",
       "    <tr style=\"text-align: right;\">\n",
       "      <th></th>\n",
       "      <th>days</th>\n",
       "      <th>views</th>\n",
       "      <th>orders</th>\n",
       "    </tr>\n",
       "  </thead>\n",
       "  <tbody>\n",
       "    <tr>\n",
       "      <th>0</th>\n",
       "      <td>0</td>\n",
       "      <td>29199</td>\n",
       "      <td>29199</td>\n",
       "    </tr>\n",
       "    <tr>\n",
       "      <th>1</th>\n",
       "      <td>2</td>\n",
       "      <td>17632</td>\n",
       "      <td>17632</td>\n",
       "    </tr>\n",
       "    <tr>\n",
       "      <th>2</th>\n",
       "      <td>3</td>\n",
       "      <td>7376</td>\n",
       "      <td>7376</td>\n",
       "    </tr>\n",
       "    <tr>\n",
       "      <th>3</th>\n",
       "      <td>4</td>\n",
       "      <td>4650</td>\n",
       "      <td>4650</td>\n",
       "    </tr>\n",
       "    <tr>\n",
       "      <th>4</th>\n",
       "      <td>5</td>\n",
       "      <td>3359</td>\n",
       "      <td>3359</td>\n",
       "    </tr>\n",
       "    <tr>\n",
       "      <th>5</th>\n",
       "      <td>6</td>\n",
       "      <td>3003</td>\n",
       "      <td>3003</td>\n",
       "    </tr>\n",
       "    <tr>\n",
       "      <th>6</th>\n",
       "      <td>7</td>\n",
       "      <td>3104</td>\n",
       "      <td>3104</td>\n",
       "    </tr>\n",
       "    <tr>\n",
       "      <th>7</th>\n",
       "      <td>8</td>\n",
       "      <td>2812</td>\n",
       "      <td>2812</td>\n",
       "    </tr>\n",
       "    <tr>\n",
       "      <th>8</th>\n",
       "      <td>9</td>\n",
       "      <td>2571</td>\n",
       "      <td>2571</td>\n",
       "    </tr>\n",
       "    <tr>\n",
       "      <th>9</th>\n",
       "      <td>10</td>\n",
       "      <td>2396</td>\n",
       "      <td>2396</td>\n",
       "    </tr>\n",
       "    <tr>\n",
       "      <th>10</th>\n",
       "      <td>11</td>\n",
       "      <td>1713</td>\n",
       "      <td>1713</td>\n",
       "    </tr>\n",
       "    <tr>\n",
       "      <th>11</th>\n",
       "      <td>12</td>\n",
       "      <td>804</td>\n",
       "      <td>804</td>\n",
       "    </tr>\n",
       "    <tr>\n",
       "      <th>12</th>\n",
       "      <td>13</td>\n",
       "      <td>598</td>\n",
       "      <td>598</td>\n",
       "    </tr>\n",
       "  </tbody>\n",
       "</table>\n",
       "</div>"
      ],
      "text/plain": [
       "    days  views  orders\n",
       "0      0  29199   29199\n",
       "1      2  17632   17632\n",
       "2      3   7376    7376\n",
       "3      4   4650    4650\n",
       "4      5   3359    3359\n",
       "5      6   3003    3003\n",
       "6      7   3104    3104\n",
       "7      8   2812    2812\n",
       "8      9   2571    2571\n",
       "9     10   2396    2396\n",
       "10    11   1713    1713\n",
       "11    12    804     804\n",
       "12    13    598     598"
      ]
     },
     "execution_count": 73,
     "metadata": {},
     "output_type": "execute_result"
    }
   ],
   "source": [
    "View2Order_days"
   ]
  },
  {
   "cell_type": "code",
   "execution_count": 74,
   "metadata": {},
   "outputs": [
    {
     "data": {
      "image/png": "[encoded data removed]",
      "text/plain": [
       "<Figure size 1332x756 with 1 Axes>"
      ]
     },
     "metadata": {},
     "output_type": "display_data"
    }
   ],
   "source": [
    "x = View2Order_days['days']\n",
    "y = View2Order_days['views']\n",
    "\n",
    "fig, ax = plt.subplots()\n",
    "fig.set_size_inches(18.5, 10.5)\n",
    "\n",
    "color_rectangle = np.random.rand(7, 3)    # RGB\n",
    "ax.bar(x, y, color = color_rectangle)\n",
    "\n",
    "plt.xlabel('Days', fontsize=20)\n",
    "plt.ylabel('views', fontsize=20)\n",
    "fig.set_facecolor('floralwhite')\n",
    "ax.set_facecolor('seashell')\n",
    "\n",
    "plt.show()"
   ]
  },
  {
   "cell_type": "markdown",
   "metadata": {},
   "source": [
    "#### View2Order по времени суток"
   ]
  },
  {
   "cell_type": "code",
   "execution_count": 75,
   "metadata": {},
   "outputs": [
    {
     "data": {
      "text/html": [
       "<div>\n",
       "<style scoped>\n",
       "    .dataframe tbody tr th:only-of-type {\n",
       "        vertical-align: middle;\n",
       "    }\n",
       "\n",
       "    .dataframe tbody tr th {\n",
       "        vertical-align: top;\n",
       "    }\n",
       "\n",
       "    .dataframe thead th {\n",
       "        text-align: right;\n",
       "    }\n",
       "</style>\n",
       "<table border=\"1\" class=\"dataframe\">\n",
       "  <thead>\n",
       "    <tr style=\"text-align: right;\">\n",
       "      <th></th>\n",
       "      <th>idhash_view</th>\n",
       "      <th>view_dttm</th>\n",
       "      <th>tariff</th>\n",
       "      <th>idhash_order</th>\n",
       "      <th>idhash_client</th>\n",
       "      <th>client_bill_usd</th>\n",
       "      <th>latitude</th>\n",
       "      <th>longitude</th>\n",
       "      <th>del_latitude</th>\n",
       "      <th>del_longitude</th>\n",
       "      <th>monetary</th>\n",
       "      <th>frequency</th>\n",
       "      <th>recency</th>\n",
       "      <th>clusters</th>\n",
       "      <th>R_Quartile</th>\n",
       "      <th>F_Quartile</th>\n",
       "      <th>M_Quartile</th>\n",
       "      <th>RFMClass</th>\n",
       "    </tr>\n",
       "  </thead>\n",
       "  <tbody>\n",
       "    <tr>\n",
       "      <th>73325</th>\n",
       "      <td>4139885053</td>\n",
       "      <td>2015-12-08 22:28:46</td>\n",
       "      <td>Эконом</td>\n",
       "      <td>2686729818</td>\n",
       "      <td>39262</td>\n",
       "      <td>1.86</td>\n",
       "      <td>57.584282</td>\n",
       "      <td>39.825794</td>\n",
       "      <td>57.584214</td>\n",
       "      <td>39.839829</td>\n",
       "      <td>54.655</td>\n",
       "      <td>25</td>\n",
       "      <td>0</td>\n",
       "      <td>0</td>\n",
       "      <td>1</td>\n",
       "      <td>1</td>\n",
       "      <td>2</td>\n",
       "      <td>112</td>\n",
       "    </tr>\n",
       "    <tr>\n",
       "      <th>898708</th>\n",
       "      <td>3709831592</td>\n",
       "      <td>2015-12-19 22:42:40</td>\n",
       "      <td>Комфорт</td>\n",
       "      <td>2761390152</td>\n",
       "      <td>39262</td>\n",
       "      <td>2.79</td>\n",
       "      <td>57.584267</td>\n",
       "      <td>39.825745</td>\n",
       "      <td>57.584214</td>\n",
       "      <td>39.839829</td>\n",
       "      <td>54.655</td>\n",
       "      <td>25</td>\n",
       "      <td>0</td>\n",
       "      <td>0</td>\n",
       "      <td>1</td>\n",
       "      <td>1</td>\n",
       "      <td>2</td>\n",
       "      <td>112</td>\n",
       "    </tr>\n",
       "  </tbody>\n",
       "</table>\n",
       "</div>"
      ],
      "text/plain": [
       "        idhash_view           view_dttm   tariff  idhash_order  idhash_client  \\\n",
       "73325    4139885053 2015-12-08 22:28:46   Эконом    2686729818          39262   \n",
       "898708   3709831592 2015-12-19 22:42:40  Комфорт    2761390152          39262   \n",
       "\n",
       "        client_bill_usd   latitude  longitude  del_latitude  del_longitude  \\\n",
       "73325              1.86  57.584282  39.825794     57.584214      39.839829   \n",
       "898708             2.79  57.584267  39.825745     57.584214      39.839829   \n",
       "\n",
       "        monetary  frequency  recency  clusters  R_Quartile  F_Quartile  \\\n",
       "73325     54.655         25        0         0           1           1   \n",
       "898708    54.655         25        0         0           1           1   \n",
       "\n",
       "        M_Quartile RFMClass  \n",
       "73325            2      112  \n",
       "898708           2      112  "
      ]
     },
     "execution_count": 75,
     "metadata": {},
     "output_type": "execute_result"
    }
   ],
   "source": [
    "df.head(2)"
   ]
  },
  {
   "cell_type": "code",
   "execution_count": 76,
   "metadata": {},
   "outputs": [],
   "source": [
    "df['hour'] = df['view_dttm'].dt.hour"
   ]
  },
  {
   "cell_type": "code",
   "execution_count": 77,
   "metadata": {},
   "outputs": [
    {
     "data": {
      "text/html": [
       "<div>\n",
       "<style scoped>\n",
       "    .dataframe tbody tr th:only-of-type {\n",
       "        vertical-align: middle;\n",
       "    }\n",
       "\n",
       "    .dataframe tbody tr th {\n",
       "        vertical-align: top;\n",
       "    }\n",
       "\n",
       "    .dataframe thead th {\n",
       "        text-align: right;\n",
       "    }\n",
       "</style>\n",
       "<table border=\"1\" class=\"dataframe\">\n",
       "  <thead>\n",
       "    <tr style=\"text-align: right;\">\n",
       "      <th></th>\n",
       "      <th>idhash_view</th>\n",
       "      <th>view_dttm</th>\n",
       "      <th>tariff</th>\n",
       "      <th>idhash_order</th>\n",
       "      <th>idhash_client</th>\n",
       "      <th>client_bill_usd</th>\n",
       "      <th>latitude</th>\n",
       "      <th>longitude</th>\n",
       "      <th>del_latitude</th>\n",
       "      <th>del_longitude</th>\n",
       "      <th>monetary</th>\n",
       "      <th>frequency</th>\n",
       "      <th>recency</th>\n",
       "      <th>clusters</th>\n",
       "      <th>R_Quartile</th>\n",
       "      <th>F_Quartile</th>\n",
       "      <th>M_Quartile</th>\n",
       "      <th>RFMClass</th>\n",
       "      <th>hour</th>\n",
       "    </tr>\n",
       "  </thead>\n",
       "  <tbody>\n",
       "    <tr>\n",
       "      <th>794963</th>\n",
       "      <td>75892518</td>\n",
       "      <td>2015-12-17 22:45:20</td>\n",
       "      <td>Эконом</td>\n",
       "      <td>2949569858</td>\n",
       "      <td>4294468826</td>\n",
       "      <td>2.01</td>\n",
       "      <td>57.626236</td>\n",
       "      <td>39.838350</td>\n",
       "      <td>57.624080</td>\n",
       "      <td>39.852321</td>\n",
       "      <td>176.92</td>\n",
       "      <td>46</td>\n",
       "      <td>0</td>\n",
       "      <td>0</td>\n",
       "      <td>1</td>\n",
       "      <td>1</td>\n",
       "      <td>1</td>\n",
       "      <td>111</td>\n",
       "      <td>22</td>\n",
       "    </tr>\n",
       "    <tr>\n",
       "      <th>613631</th>\n",
       "      <td>3143083069</td>\n",
       "      <td>2015-12-13 21:47:56</td>\n",
       "      <td>Эконом</td>\n",
       "      <td>759999585</td>\n",
       "      <td>4294468826</td>\n",
       "      <td>3.31</td>\n",
       "      <td>57.591675</td>\n",
       "      <td>39.866699</td>\n",
       "      <td>57.624080</td>\n",
       "      <td>39.852321</td>\n",
       "      <td>176.92</td>\n",
       "      <td>46</td>\n",
       "      <td>0</td>\n",
       "      <td>0</td>\n",
       "      <td>1</td>\n",
       "      <td>1</td>\n",
       "      <td>1</td>\n",
       "      <td>111</td>\n",
       "      <td>21</td>\n",
       "    </tr>\n",
       "    <tr>\n",
       "      <th>675081</th>\n",
       "      <td>3473992266</td>\n",
       "      <td>2015-12-14 07:25:06</td>\n",
       "      <td>Бизнес</td>\n",
       "      <td>2791065179</td>\n",
       "      <td>4294468826</td>\n",
       "      <td>4.14</td>\n",
       "      <td>57.623240</td>\n",
       "      <td>39.851656</td>\n",
       "      <td>57.615144</td>\n",
       "      <td>39.851935</td>\n",
       "      <td>176.92</td>\n",
       "      <td>46</td>\n",
       "      <td>0</td>\n",
       "      <td>0</td>\n",
       "      <td>1</td>\n",
       "      <td>1</td>\n",
       "      <td>1</td>\n",
       "      <td>111</td>\n",
       "      <td>7</td>\n",
       "    </tr>\n",
       "    <tr>\n",
       "      <th>603790</th>\n",
       "      <td>2241874340</td>\n",
       "      <td>2015-12-17 10:52:29</td>\n",
       "      <td>Эконом</td>\n",
       "      <td>1016393930</td>\n",
       "      <td>4294468826</td>\n",
       "      <td>1.83</td>\n",
       "      <td>57.623240</td>\n",
       "      <td>39.851656</td>\n",
       "      <td>57.625915</td>\n",
       "      <td>39.835649</td>\n",
       "      <td>176.92</td>\n",
       "      <td>46</td>\n",
       "      <td>0</td>\n",
       "      <td>0</td>\n",
       "      <td>1</td>\n",
       "      <td>1</td>\n",
       "      <td>1</td>\n",
       "      <td>111</td>\n",
       "      <td>10</td>\n",
       "    </tr>\n",
       "    <tr>\n",
       "      <th>500157</th>\n",
       "      <td>965331158</td>\n",
       "      <td>2015-12-16 22:21:38</td>\n",
       "      <td>Эконом</td>\n",
       "      <td>3313666818</td>\n",
       "      <td>4294689425</td>\n",
       "      <td>2.28</td>\n",
       "      <td>57.569902</td>\n",
       "      <td>39.874486</td>\n",
       "      <td>57.584148</td>\n",
       "      <td>39.824690</td>\n",
       "      <td>2.28</td>\n",
       "      <td>1</td>\n",
       "      <td>3</td>\n",
       "      <td>2</td>\n",
       "      <td>2</td>\n",
       "      <td>4</td>\n",
       "      <td>4</td>\n",
       "      <td>244</td>\n",
       "      <td>22</td>\n",
       "    </tr>\n",
       "  </tbody>\n",
       "</table>\n",
       "</div>"
      ],
      "text/plain": [
       "        idhash_view           view_dttm  tariff  idhash_order  idhash_client  \\\n",
       "794963     75892518 2015-12-17 22:45:20  Эконом    2949569858     4294468826   \n",
       "613631   3143083069 2015-12-13 21:47:56  Эконом     759999585     4294468826   \n",
       "675081   3473992266 2015-12-14 07:25:06  Бизнес    2791065179     4294468826   \n",
       "603790   2241874340 2015-12-17 10:52:29  Эконом    1016393930     4294468826   \n",
       "500157    965331158 2015-12-16 22:21:38  Эконом    3313666818     4294689425   \n",
       "\n",
       "        client_bill_usd   latitude  longitude  del_latitude  del_longitude  \\\n",
       "794963             2.01  57.626236  39.838350     57.624080      39.852321   \n",
       "613631             3.31  57.591675  39.866699     57.624080      39.852321   \n",
       "675081             4.14  57.623240  39.851656     57.615144      39.851935   \n",
       "603790             1.83  57.623240  39.851656     57.625915      39.835649   \n",
       "500157             2.28  57.569902  39.874486     57.584148      39.824690   \n",
       "\n",
       "        monetary  frequency  recency  clusters  R_Quartile  F_Quartile  \\\n",
       "794963    176.92         46        0         0           1           1   \n",
       "613631    176.92         46        0         0           1           1   \n",
       "675081    176.92         46        0         0           1           1   \n",
       "603790    176.92         46        0         0           1           1   \n",
       "500157      2.28          1        3         2           2           4   \n",
       "\n",
       "        M_Quartile RFMClass  hour  \n",
       "794963           1      111    22  \n",
       "613631           1      111    21  \n",
       "675081           1      111     7  \n",
       "603790           1      111    10  \n",
       "500157           4      244    22  "
      ]
     },
     "execution_count": 77,
     "metadata": {},
     "output_type": "execute_result"
    }
   ],
   "source": [
    "#df.sort_values(by=['hour'], ascending=False).head(2)\n",
    "df.tail()"
   ]
  },
  {
   "cell_type": "markdown",
   "metadata": {},
   "source": [
    "утро - с 6 до 11\n",
    "<br>день - с 11 до 16\n",
    "<br>вечер - с 16 до 22\n",
    "<br>ночь - с 22 до 6"
   ]
  },
  {
   "cell_type": "code",
   "execution_count": 78,
   "metadata": {},
   "outputs": [],
   "source": [
    "def f(x):\n",
    "    if (x > 5) and (x <= 11):\n",
    "        return 'Morning'\n",
    "    elif (x > 11) and (x <= 16):\n",
    "        return'Noon'\n",
    "    elif (x > 16) and (x <= 22) :\n",
    "        return 'Evening'\n",
    "    else:\n",
    "        return'Night'"
   ]
  },
  {
   "cell_type": "code",
   "execution_count": 79,
   "metadata": {},
   "outputs": [],
   "source": [
    "df['phase'] = df['hour'].apply(f)"
   ]
  },
  {
   "cell_type": "code",
   "execution_count": 80,
   "metadata": {},
   "outputs": [],
   "source": [
    "#df.sort_values(by=['hour'])"
   ]
  },
  {
   "cell_type": "code",
   "execution_count": 81,
   "metadata": {},
   "outputs": [],
   "source": [
    "view3 = df.groupby(['phase'])['idhash_view'].count()"
   ]
  },
  {
   "cell_type": "code",
   "execution_count": 82,
   "metadata": {},
   "outputs": [],
   "source": [
    "order3 = df.groupby(['phase'])['idhash_order'].count()"
   ]
  },
  {
   "cell_type": "code",
   "execution_count": 83,
   "metadata": {},
   "outputs": [],
   "source": [
    "View2Order_phase = pd.DataFrame()"
   ]
  },
  {
   "cell_type": "code",
   "execution_count": 84,
   "metadata": {},
   "outputs": [],
   "source": [
    "View2Order_phase['phase'] =view3.keys()\n",
    "View2Order_phase['views'] = list(view3)\n",
    "View2Order_phase['orders'] = list(order3)"
   ]
  },
  {
   "cell_type": "code",
   "execution_count": 85,
   "metadata": {},
   "outputs": [
    {
     "data": {
      "text/html": [
       "<div>\n",
       "<style scoped>\n",
       "    .dataframe tbody tr th:only-of-type {\n",
       "        vertical-align: middle;\n",
       "    }\n",
       "\n",
       "    .dataframe tbody tr th {\n",
       "        vertical-align: top;\n",
       "    }\n",
       "\n",
       "    .dataframe thead th {\n",
       "        text-align: right;\n",
       "    }\n",
       "</style>\n",
       "<table border=\"1\" class=\"dataframe\">\n",
       "  <thead>\n",
       "    <tr style=\"text-align: right;\">\n",
       "      <th></th>\n",
       "      <th>phase</th>\n",
       "      <th>views</th>\n",
       "      <th>orders</th>\n",
       "    </tr>\n",
       "  </thead>\n",
       "  <tbody>\n",
       "    <tr>\n",
       "      <th>0</th>\n",
       "      <td>Evening</td>\n",
       "      <td>25871</td>\n",
       "      <td>25871</td>\n",
       "    </tr>\n",
       "    <tr>\n",
       "      <th>1</th>\n",
       "      <td>Morning</td>\n",
       "      <td>21450</td>\n",
       "      <td>21450</td>\n",
       "    </tr>\n",
       "    <tr>\n",
       "      <th>2</th>\n",
       "      <td>Night</td>\n",
       "      <td>15277</td>\n",
       "      <td>15277</td>\n",
       "    </tr>\n",
       "    <tr>\n",
       "      <th>3</th>\n",
       "      <td>Noon</td>\n",
       "      <td>16619</td>\n",
       "      <td>16619</td>\n",
       "    </tr>\n",
       "  </tbody>\n",
       "</table>\n",
       "</div>"
      ],
      "text/plain": [
       "     phase  views  orders\n",
       "0  Evening  25871   25871\n",
       "1  Morning  21450   21450\n",
       "2    Night  15277   15277\n",
       "3     Noon  16619   16619"
      ]
     },
     "execution_count": 85,
     "metadata": {},
     "output_type": "execute_result"
    }
   ],
   "source": [
    "View2Order_phase"
   ]
  },
  {
   "cell_type": "code",
   "execution_count": 86,
   "metadata": {},
   "outputs": [
    {
     "data": {
      "image/png": "[encoded data removed]",
      "text/plain": [
       "<Figure size 432x432 with 1 Axes>"
      ]
     },
     "metadata": {},
     "output_type": "display_data"
    }
   ],
   "source": [
    "View2Order_phase['views'].plot(kind='pie', labels = View2Order_phase['phase'],\n",
    "                               autopct = \"%.2f%%\", textprops={'color':\"w\"}, figsize=(6,6))\n",
    "plt.title('Views in day phases', color = 'w')\n",
    "plt.show()"
   ]
  },
  {
   "cell_type": "markdown",
   "metadata": {},
   "source": [
    "#### Средний чек в разбивке по сегментам"
   ]
  },
  {
   "cell_type": "code",
   "execution_count": 87,
   "metadata": {},
   "outputs": [
    {
     "data": {
      "text/html": [
       "<div>\n",
       "<style scoped>\n",
       "    .dataframe tbody tr th:only-of-type {\n",
       "        vertical-align: middle;\n",
       "    }\n",
       "\n",
       "    .dataframe tbody tr th {\n",
       "        vertical-align: top;\n",
       "    }\n",
       "\n",
       "    .dataframe thead th {\n",
       "        text-align: right;\n",
       "    }\n",
       "</style>\n",
       "<table border=\"1\" class=\"dataframe\">\n",
       "  <thead>\n",
       "    <tr style=\"text-align: right;\">\n",
       "      <th></th>\n",
       "      <th>idhash_view</th>\n",
       "      <th>view_dttm</th>\n",
       "      <th>tariff</th>\n",
       "      <th>idhash_order</th>\n",
       "      <th>idhash_client</th>\n",
       "      <th>client_bill_usd</th>\n",
       "      <th>latitude</th>\n",
       "      <th>longitude</th>\n",
       "      <th>del_latitude</th>\n",
       "      <th>del_longitude</th>\n",
       "      <th>monetary</th>\n",
       "      <th>frequency</th>\n",
       "      <th>recency</th>\n",
       "      <th>clusters</th>\n",
       "      <th>R_Quartile</th>\n",
       "      <th>F_Quartile</th>\n",
       "      <th>M_Quartile</th>\n",
       "      <th>RFMClass</th>\n",
       "      <th>hour</th>\n",
       "      <th>phase</th>\n",
       "    </tr>\n",
       "  </thead>\n",
       "  <tbody>\n",
       "    <tr>\n",
       "      <th>73325</th>\n",
       "      <td>4139885053</td>\n",
       "      <td>2015-12-08 22:28:46</td>\n",
       "      <td>Эконом</td>\n",
       "      <td>2686729818</td>\n",
       "      <td>39262</td>\n",
       "      <td>1.86</td>\n",
       "      <td>57.584282</td>\n",
       "      <td>39.825794</td>\n",
       "      <td>57.584214</td>\n",
       "      <td>39.839829</td>\n",
       "      <td>54.655</td>\n",
       "      <td>25</td>\n",
       "      <td>0</td>\n",
       "      <td>0</td>\n",
       "      <td>1</td>\n",
       "      <td>1</td>\n",
       "      <td>2</td>\n",
       "      <td>112</td>\n",
       "      <td>22</td>\n",
       "      <td>Evening</td>\n",
       "    </tr>\n",
       "    <tr>\n",
       "      <th>898708</th>\n",
       "      <td>3709831592</td>\n",
       "      <td>2015-12-19 22:42:40</td>\n",
       "      <td>Комфорт</td>\n",
       "      <td>2761390152</td>\n",
       "      <td>39262</td>\n",
       "      <td>2.79</td>\n",
       "      <td>57.584267</td>\n",
       "      <td>39.825745</td>\n",
       "      <td>57.584214</td>\n",
       "      <td>39.839829</td>\n",
       "      <td>54.655</td>\n",
       "      <td>25</td>\n",
       "      <td>0</td>\n",
       "      <td>0</td>\n",
       "      <td>1</td>\n",
       "      <td>1</td>\n",
       "      <td>2</td>\n",
       "      <td>112</td>\n",
       "      <td>22</td>\n",
       "      <td>Evening</td>\n",
       "    </tr>\n",
       "    <tr>\n",
       "      <th>410068</th>\n",
       "      <td>731098178</td>\n",
       "      <td>2015-12-12 22:42:56</td>\n",
       "      <td>Эконом</td>\n",
       "      <td>790101098</td>\n",
       "      <td>39262</td>\n",
       "      <td>1.72</td>\n",
       "      <td>57.584282</td>\n",
       "      <td>39.825794</td>\n",
       "      <td>57.584214</td>\n",
       "      <td>39.839829</td>\n",
       "      <td>54.655</td>\n",
       "      <td>25</td>\n",
       "      <td>0</td>\n",
       "      <td>0</td>\n",
       "      <td>1</td>\n",
       "      <td>1</td>\n",
       "      <td>2</td>\n",
       "      <td>112</td>\n",
       "      <td>22</td>\n",
       "      <td>Evening</td>\n",
       "    </tr>\n",
       "    <tr>\n",
       "      <th>238308</th>\n",
       "      <td>4241509287</td>\n",
       "      <td>2015-12-15 22:32:20</td>\n",
       "      <td>Эконом</td>\n",
       "      <td>4076411177</td>\n",
       "      <td>39262</td>\n",
       "      <td>1.46</td>\n",
       "      <td>57.584267</td>\n",
       "      <td>39.825745</td>\n",
       "      <td>57.584214</td>\n",
       "      <td>39.839829</td>\n",
       "      <td>54.655</td>\n",
       "      <td>25</td>\n",
       "      <td>0</td>\n",
       "      <td>0</td>\n",
       "      <td>1</td>\n",
       "      <td>1</td>\n",
       "      <td>2</td>\n",
       "      <td>112</td>\n",
       "      <td>22</td>\n",
       "      <td>Evening</td>\n",
       "    </tr>\n",
       "    <tr>\n",
       "      <th>410409</th>\n",
       "      <td>3978633497</td>\n",
       "      <td>2015-12-12 22:47:35</td>\n",
       "      <td>Эконом</td>\n",
       "      <td>1339001373</td>\n",
       "      <td>39262</td>\n",
       "      <td>1.72</td>\n",
       "      <td>57.584268</td>\n",
       "      <td>39.825746</td>\n",
       "      <td>57.584214</td>\n",
       "      <td>39.839829</td>\n",
       "      <td>54.655</td>\n",
       "      <td>25</td>\n",
       "      <td>0</td>\n",
       "      <td>0</td>\n",
       "      <td>1</td>\n",
       "      <td>1</td>\n",
       "      <td>2</td>\n",
       "      <td>112</td>\n",
       "      <td>22</td>\n",
       "      <td>Evening</td>\n",
       "    </tr>\n",
       "  </tbody>\n",
       "</table>\n",
       "</div>"
      ],
      "text/plain": [
       "        idhash_view           view_dttm   tariff  idhash_order  idhash_client  \\\n",
       "73325    4139885053 2015-12-08 22:28:46   Эконом    2686729818          39262   \n",
       "898708   3709831592 2015-12-19 22:42:40  Комфорт    2761390152          39262   \n",
       "410068    731098178 2015-12-12 22:42:56   Эконом     790101098          39262   \n",
       "238308   4241509287 2015-12-15 22:32:20   Эконом    4076411177          39262   \n",
       "410409   3978633497 2015-12-12 22:47:35   Эконом    1339001373          39262   \n",
       "\n",
       "        client_bill_usd   latitude  longitude  del_latitude  del_longitude  \\\n",
       "73325              1.86  57.584282  39.825794     57.584214      39.839829   \n",
       "898708             2.79  57.584267  39.825745     57.584214      39.839829   \n",
       "410068             1.72  57.584282  39.825794     57.584214      39.839829   \n",
       "238308             1.46  57.584267  39.825745     57.584214      39.839829   \n",
       "410409             1.72  57.584268  39.825746     57.584214      39.839829   \n",
       "\n",
       "        monetary  frequency  recency  clusters  R_Quartile  F_Quartile  \\\n",
       "73325     54.655         25        0         0           1           1   \n",
       "898708    54.655         25        0         0           1           1   \n",
       "410068    54.655         25        0         0           1           1   \n",
       "238308    54.655         25        0         0           1           1   \n",
       "410409    54.655         25        0         0           1           1   \n",
       "\n",
       "        M_Quartile RFMClass  hour    phase  \n",
       "73325            2      112    22  Evening  \n",
       "898708           2      112    22  Evening  \n",
       "410068           2      112    22  Evening  \n",
       "238308           2      112    22  Evening  \n",
       "410409           2      112    22  Evening  "
      ]
     },
     "execution_count": 87,
     "metadata": {},
     "output_type": "execute_result"
    }
   ],
   "source": [
    "df.head()"
   ]
  },
  {
   "cell_type": "code",
   "execution_count": 88,
   "metadata": {},
   "outputs": [],
   "source": [
    "bill = df.groupby(['clusters'])['client_bill_usd'].mean()"
   ]
  },
  {
   "cell_type": "code",
   "execution_count": 89,
   "metadata": {},
   "outputs": [],
   "source": [
    "check_cluster = pd.DataFrame()"
   ]
  },
  {
   "cell_type": "code",
   "execution_count": 90,
   "metadata": {},
   "outputs": [],
   "source": [
    "check_cluster['cluster'] =bill.keys()\n",
    "check_cluster['bill'] = list(bill)"
   ]
  },
  {
   "cell_type": "code",
   "execution_count": 91,
   "metadata": {},
   "outputs": [
    {
     "data": {
      "text/html": [
       "<div>\n",
       "<style scoped>\n",
       "    .dataframe tbody tr th:only-of-type {\n",
       "        vertical-align: middle;\n",
       "    }\n",
       "\n",
       "    .dataframe tbody tr th {\n",
       "        vertical-align: top;\n",
       "    }\n",
       "\n",
       "    .dataframe thead th {\n",
       "        text-align: right;\n",
       "    }\n",
       "</style>\n",
       "<table border=\"1\" class=\"dataframe\">\n",
       "  <thead>\n",
       "    <tr style=\"text-align: right;\">\n",
       "      <th></th>\n",
       "      <th>cluster</th>\n",
       "      <th>bill</th>\n",
       "    </tr>\n",
       "  </thead>\n",
       "  <tbody>\n",
       "    <tr>\n",
       "      <th>0</th>\n",
       "      <td>0</td>\n",
       "      <td>4.663874</td>\n",
       "    </tr>\n",
       "    <tr>\n",
       "      <th>1</th>\n",
       "      <td>1</td>\n",
       "      <td>4.649749</td>\n",
       "    </tr>\n",
       "    <tr>\n",
       "      <th>2</th>\n",
       "      <td>2</td>\n",
       "      <td>4.162358</td>\n",
       "    </tr>\n",
       "  </tbody>\n",
       "</table>\n",
       "</div>"
      ],
      "text/plain": [
       "   cluster      bill\n",
       "0        0  4.663874\n",
       "1        1  4.649749\n",
       "2        2  4.162358"
      ]
     },
     "execution_count": 91,
     "metadata": {},
     "output_type": "execute_result"
    }
   ],
   "source": [
    "check_cluster"
   ]
  },
  {
   "cell_type": "markdown",
   "metadata": {},
   "source": [
    "#### Средний чек в разбивке по городам"
   ]
  },
  {
   "cell_type": "code",
   "execution_count": 92,
   "metadata": {},
   "outputs": [],
   "source": [
    "import keplergl"
   ]
  },
  {
   "cell_type": "code",
   "execution_count": 93,
   "metadata": {},
   "outputs": [],
   "source": [
    "coord=df.loc[:,['idhash_client', 'client_bill_usd','latitude','longitude']]"
   ]
  },
  {
   "cell_type": "code",
   "execution_count": 94,
   "metadata": {},
   "outputs": [],
   "source": [
    "coord['location'] = coord[['latitude','longitude']].values.tolist()"
   ]
  },
  {
   "cell_type": "code",
   "execution_count": 95,
   "metadata": {},
   "outputs": [
    {
     "data": {
      "text/html": [
       "<div>\n",
       "<style scoped>\n",
       "    .dataframe tbody tr th:only-of-type {\n",
       "        vertical-align: middle;\n",
       "    }\n",
       "\n",
       "    .dataframe tbody tr th {\n",
       "        vertical-align: top;\n",
       "    }\n",
       "\n",
       "    .dataframe thead th {\n",
       "        text-align: right;\n",
       "    }\n",
       "</style>\n",
       "<table border=\"1\" class=\"dataframe\">\n",
       "  <thead>\n",
       "    <tr style=\"text-align: right;\">\n",
       "      <th></th>\n",
       "      <th>idhash_client</th>\n",
       "      <th>client_bill_usd</th>\n",
       "      <th>latitude</th>\n",
       "      <th>longitude</th>\n",
       "      <th>location</th>\n",
       "    </tr>\n",
       "  </thead>\n",
       "  <tbody>\n",
       "    <tr>\n",
       "      <th>73325</th>\n",
       "      <td>39262</td>\n",
       "      <td>1.86</td>\n",
       "      <td>57.584282</td>\n",
       "      <td>39.825794</td>\n",
       "      <td>[57.58428192, 39.82579422]</td>\n",
       "    </tr>\n",
       "    <tr>\n",
       "      <th>898708</th>\n",
       "      <td>39262</td>\n",
       "      <td>2.79</td>\n",
       "      <td>57.584267</td>\n",
       "      <td>39.825745</td>\n",
       "      <td>[57.58426666, 39.82574463]</td>\n",
       "    </tr>\n",
       "    <tr>\n",
       "      <th>410068</th>\n",
       "      <td>39262</td>\n",
       "      <td>1.72</td>\n",
       "      <td>57.584282</td>\n",
       "      <td>39.825794</td>\n",
       "      <td>[57.58428192, 39.82579422]</td>\n",
       "    </tr>\n",
       "  </tbody>\n",
       "</table>\n",
       "</div>"
      ],
      "text/plain": [
       "        idhash_client  client_bill_usd   latitude  longitude  \\\n",
       "73325           39262             1.86  57.584282  39.825794   \n",
       "898708          39262             2.79  57.584267  39.825745   \n",
       "410068          39262             1.72  57.584282  39.825794   \n",
       "\n",
       "                          location  \n",
       "73325   [57.58428192, 39.82579422]  \n",
       "898708  [57.58426666, 39.82574463]  \n",
       "410068  [57.58428192, 39.82579422]  "
      ]
     },
     "execution_count": 95,
     "metadata": {},
     "output_type": "execute_result"
    }
   ],
   "source": [
    "coord.head(3)"
   ]
  },
  {
   "cell_type": "code",
   "execution_count": 96,
   "metadata": {},
   "outputs": [],
   "source": [
    "geolocator = Nominatim(user_agent=\"polina1\")"
   ]
  },
  {
   "cell_type": "code",
   "execution_count": 97,
   "metadata": {},
   "outputs": [],
   "source": [
    "def get_city(locations):\n",
    "    cities = []\n",
    "    for location in locations:\n",
    "        cities.append(geolocator.reverse(location).raw['address'].get('state'))\n",
    "    return cities"
   ]
  },
  {
   "cell_type": "code",
   "execution_count": null,
   "metadata": {},
   "outputs": [],
   "source": []
  },
  {
   "cell_type": "code",
   "execution_count": 98,
   "metadata": {},
   "outputs": [],
   "source": [
    "ssd = []\n",
    "range_n_clusters = [2,3,4,5,6,7,8,9,10]\n",
    "for num_clusters in range_n_clusters:\n",
    "    kmeans = KMeans(n_clusters=num_clusters, max_iter=100)\n",
    "    kmeans.fit(coord[['latitude','longitude']])\n",
    "    \n",
    "    ssd.append(kmeans.inertia_)"
   ]
  },
  {
   "cell_type": "code",
   "execution_count": 99,
   "metadata": {},
   "outputs": [
    {
     "data": {
      "image/png": "[encoded data removed]",
      "text/plain": [
       "<Figure size 1080x432 with 1 Axes>"
      ]
     },
     "metadata": {
      "needs_background": "light"
     },
     "output_type": "display_data"
    }
   ],
   "source": [
    "plt.figure(1 , figsize = (15 ,6))\n",
    "plt.plot(ssd , '*')\n",
    "plt.plot(ssd , '-' , alpha = 0.5)\n",
    "plt.xlabel('Number of Clusters') , plt.ylabel('Score')\n",
    "plt.show()"
   ]
  },
  {
   "cell_type": "code",
   "execution_count": 100,
   "metadata": {},
   "outputs": [],
   "source": [
    "kmeans = KMeans(n_clusters = 6, init ='k-means++',max_iter=300,n_init=10,algorithm = 'elkan')\n",
    "kmeans.fit(coord[['latitude','longitude']]) \n",
    "coord['cluster_label'] = kmeans.fit_predict(coord[coord.columns[2:4]])\n",
    "labels = kmeans.predict(coord[['latitude','longitude']]) \n",
    "centroids  = kmeans.cluster_centers_\n",
    "centroid_labels = [centroids[i] for i in labels]\n",
    "coord['center'] = centroid_labels"
   ]
  },
  {
   "cell_type": "code",
   "execution_count": 101,
   "metadata": {},
   "outputs": [
    {
     "data": {
      "text/plain": [
       "array([[57.61774429, 39.87652596],\n",
       "       [56.18831445, 40.39955724],\n",
       "       [57.35308912, 41.02819429],\n",
       "       [57.68233223, 39.78236088],\n",
       "       [57.5842438 , 38.79433393],\n",
       "       [59.19304323, 39.90428194]])"
      ]
     },
     "execution_count": 101,
     "metadata": {},
     "output_type": "execute_result"
    }
   ],
   "source": [
    "centroids"
   ]
  },
  {
   "cell_type": "code",
   "execution_count": 102,
   "metadata": {},
   "outputs": [],
   "source": [
    "#coord.sort_values(by=['location'], ascending=False).head(2)"
   ]
  },
  {
   "cell_type": "markdown",
   "metadata": {},
   "source": [
    "Посмотрим на размеры получившихся кластеров."
   ]
  },
  {
   "cell_type": "code",
   "execution_count": 103,
   "metadata": {},
   "outputs": [
    {
     "data": {
      "text/plain": [
       "cluster_label\n",
       "0    62806\n",
       "1      353\n",
       "2      323\n",
       "3    15496\n",
       "4      191\n",
       "5       48\n",
       "Name: idhash_client, dtype: int64"
      ]
     },
     "execution_count": 103,
     "metadata": {},
     "output_type": "execute_result"
    }
   ],
   "source": [
    "coord.groupby('cluster_label')['idhash_client'].count()"
   ]
  },
  {
   "cell_type": "markdown",
   "metadata": {},
   "source": [
    "Создадим отдельный датафрейм где будет содержаться только центр кластера и его координаты, чтобы получить геокодирование для этих центров."
   ]
  },
  {
   "cell_type": "code",
   "execution_count": 104,
   "metadata": {},
   "outputs": [],
   "source": [
    "d = {'cluster_label':[0,1,2,3,4,5],'center': list(centroids)}"
   ]
  },
  {
   "cell_type": "code",
   "execution_count": 105,
   "metadata": {},
   "outputs": [],
   "source": [
    "center_info = pd.DataFrame(d)"
   ]
  },
  {
   "cell_type": "code",
   "execution_count": 106,
   "metadata": {},
   "outputs": [
    {
     "data": {
      "text/html": [
       "<div>\n",
       "<style scoped>\n",
       "    .dataframe tbody tr th:only-of-type {\n",
       "        vertical-align: middle;\n",
       "    }\n",
       "\n",
       "    .dataframe tbody tr th {\n",
       "        vertical-align: top;\n",
       "    }\n",
       "\n",
       "    .dataframe thead th {\n",
       "        text-align: right;\n",
       "    }\n",
       "</style>\n",
       "<table border=\"1\" class=\"dataframe\">\n",
       "  <thead>\n",
       "    <tr style=\"text-align: right;\">\n",
       "      <th></th>\n",
       "      <th>cluster_label</th>\n",
       "      <th>center</th>\n",
       "    </tr>\n",
       "  </thead>\n",
       "  <tbody>\n",
       "    <tr>\n",
       "      <th>0</th>\n",
       "      <td>0</td>\n",
       "      <td>[57.61774428697909, 39.87652596134591]</td>\n",
       "    </tr>\n",
       "    <tr>\n",
       "      <th>1</th>\n",
       "      <td>1</td>\n",
       "      <td>[56.188314447308784, 40.39955723628895]</td>\n",
       "    </tr>\n",
       "    <tr>\n",
       "      <th>2</th>\n",
       "      <td>2</td>\n",
       "      <td>[57.3530891179257, 41.0281942947678]</td>\n",
       "    </tr>\n",
       "    <tr>\n",
       "      <th>3</th>\n",
       "      <td>3</td>\n",
       "      <td>[57.68233223434864, 39.782360882320184]</td>\n",
       "    </tr>\n",
       "    <tr>\n",
       "      <th>4</th>\n",
       "      <td>4</td>\n",
       "      <td>[57.58424380010471, 38.794333928376965]</td>\n",
       "    </tr>\n",
       "    <tr>\n",
       "      <th>5</th>\n",
       "      <td>5</td>\n",
       "      <td>[59.193043234375, 39.9042819375]</td>\n",
       "    </tr>\n",
       "  </tbody>\n",
       "</table>\n",
       "</div>"
      ],
      "text/plain": [
       "   cluster_label                                   center\n",
       "0              0   [57.61774428697909, 39.87652596134591]\n",
       "1              1  [56.188314447308784, 40.39955723628895]\n",
       "2              2     [57.3530891179257, 41.0281942947678]\n",
       "3              3  [57.68233223434864, 39.782360882320184]\n",
       "4              4  [57.58424380010471, 38.794333928376965]\n",
       "5              5         [59.193043234375, 39.9042819375]"
      ]
     },
     "execution_count": 106,
     "metadata": {},
     "output_type": "execute_result"
    }
   ],
   "source": [
    "center_info"
   ]
  },
  {
   "cell_type": "code",
   "execution_count": 107,
   "metadata": {},
   "outputs": [],
   "source": [
    "center_info['city'] = get_city(center_info['center'])"
   ]
  },
  {
   "cell_type": "code",
   "execution_count": 108,
   "metadata": {},
   "outputs": [
    {
     "data": {
      "image/png": "[encoded data removed]",
      "text/plain": [
       "<Figure size 1332x756 with 1 Axes>"
      ]
     },
     "metadata": {
      "needs_background": "light"
     },
     "output_type": "display_data"
    }
   ],
   "source": [
    "fig, ax = plt.subplots()\n",
    "fig.set_size_inches(18.5, 10.5)\n",
    "\n",
    "scatter = ax.scatter(coord['latitude'], coord['longitude'], c= coord['cluster_label'])\n",
    "\n",
    "\n",
    "legend1 = ax.legend(*scatter.legend_elements(),\n",
    "                    loc=\"lower left\", title=\"Clusters\")\n",
    "ax.add_artist(legend1)\n",
    "\n",
    "\n",
    "handles, labels = scatter.legend_elements(prop=\"sizes\", alpha=0.6)\n",
    "\n",
    "plt.show()"
   ]
  },
  {
   "cell_type": "code",
   "execution_count": 109,
   "metadata": {},
   "outputs": [],
   "source": [
    "center_info = center_info[['cluster_label','city']]"
   ]
  },
  {
   "cell_type": "code",
   "execution_count": 110,
   "metadata": {},
   "outputs": [
    {
     "data": {
      "text/html": [
       "<div>\n",
       "<style scoped>\n",
       "    .dataframe tbody tr th:only-of-type {\n",
       "        vertical-align: middle;\n",
       "    }\n",
       "\n",
       "    .dataframe tbody tr th {\n",
       "        vertical-align: top;\n",
       "    }\n",
       "\n",
       "    .dataframe thead th {\n",
       "        text-align: right;\n",
       "    }\n",
       "</style>\n",
       "<table border=\"1\" class=\"dataframe\">\n",
       "  <thead>\n",
       "    <tr style=\"text-align: right;\">\n",
       "      <th></th>\n",
       "      <th>cluster_label</th>\n",
       "      <th>city</th>\n",
       "    </tr>\n",
       "  </thead>\n",
       "  <tbody>\n",
       "    <tr>\n",
       "      <th>0</th>\n",
       "      <td>0</td>\n",
       "      <td>Ярославская область</td>\n",
       "    </tr>\n",
       "    <tr>\n",
       "      <th>1</th>\n",
       "      <td>1</td>\n",
       "      <td>Владимирская область</td>\n",
       "    </tr>\n",
       "    <tr>\n",
       "      <th>2</th>\n",
       "      <td>2</td>\n",
       "      <td>Костромская область</td>\n",
       "    </tr>\n",
       "    <tr>\n",
       "      <th>3</th>\n",
       "      <td>3</td>\n",
       "      <td>Ярославская область</td>\n",
       "    </tr>\n",
       "    <tr>\n",
       "      <th>4</th>\n",
       "      <td>4</td>\n",
       "      <td>Ярославская область</td>\n",
       "    </tr>\n",
       "    <tr>\n",
       "      <th>5</th>\n",
       "      <td>5</td>\n",
       "      <td>Вологодская область</td>\n",
       "    </tr>\n",
       "  </tbody>\n",
       "</table>\n",
       "</div>"
      ],
      "text/plain": [
       "   cluster_label                  city\n",
       "0              0   Ярославская область\n",
       "1              1  Владимирская область\n",
       "2              2   Костромская область\n",
       "3              3   Ярославская область\n",
       "4              4   Ярославская область\n",
       "5              5   Вологодская область"
      ]
     },
     "execution_count": 110,
     "metadata": {},
     "output_type": "execute_result"
    }
   ],
   "source": [
    "center_info"
   ]
  },
  {
   "cell_type": "code",
   "execution_count": 111,
   "metadata": {},
   "outputs": [],
   "source": [
    "coord = coord[['idhash_client','cluster_label']]"
   ]
  },
  {
   "cell_type": "code",
   "execution_count": 112,
   "metadata": {},
   "outputs": [],
   "source": [
    "geo =  center_info.join(coord.set_index('cluster_label'), on='cluster_label',how = 'inner')"
   ]
  },
  {
   "cell_type": "code",
   "execution_count": 113,
   "metadata": {},
   "outputs": [
    {
     "data": {
      "text/html": [
       "<div>\n",
       "<style scoped>\n",
       "    .dataframe tbody tr th:only-of-type {\n",
       "        vertical-align: middle;\n",
       "    }\n",
       "\n",
       "    .dataframe tbody tr th {\n",
       "        vertical-align: top;\n",
       "    }\n",
       "\n",
       "    .dataframe thead th {\n",
       "        text-align: right;\n",
       "    }\n",
       "</style>\n",
       "<table border=\"1\" class=\"dataframe\">\n",
       "  <thead>\n",
       "    <tr style=\"text-align: right;\">\n",
       "      <th></th>\n",
       "      <th>cluster_label</th>\n",
       "      <th>city</th>\n",
       "      <th>idhash_client</th>\n",
       "    </tr>\n",
       "  </thead>\n",
       "  <tbody>\n",
       "    <tr>\n",
       "      <th>0</th>\n",
       "      <td>0</td>\n",
       "      <td>Ярославская область</td>\n",
       "      <td>39262</td>\n",
       "    </tr>\n",
       "    <tr>\n",
       "      <th>0</th>\n",
       "      <td>0</td>\n",
       "      <td>Ярославская область</td>\n",
       "      <td>39262</td>\n",
       "    </tr>\n",
       "    <tr>\n",
       "      <th>0</th>\n",
       "      <td>0</td>\n",
       "      <td>Ярославская область</td>\n",
       "      <td>39262</td>\n",
       "    </tr>\n",
       "    <tr>\n",
       "      <th>0</th>\n",
       "      <td>0</td>\n",
       "      <td>Ярославская область</td>\n",
       "      <td>39262</td>\n",
       "    </tr>\n",
       "    <tr>\n",
       "      <th>0</th>\n",
       "      <td>0</td>\n",
       "      <td>Ярославская область</td>\n",
       "      <td>39262</td>\n",
       "    </tr>\n",
       "  </tbody>\n",
       "</table>\n",
       "</div>"
      ],
      "text/plain": [
       "   cluster_label                 city  idhash_client\n",
       "0              0  Ярославская область          39262\n",
       "0              0  Ярославская область          39262\n",
       "0              0  Ярославская область          39262\n",
       "0              0  Ярославская область          39262\n",
       "0              0  Ярославская область          39262"
      ]
     },
     "execution_count": 113,
     "metadata": {},
     "output_type": "execute_result"
    }
   ],
   "source": [
    "geo.head()"
   ]
  },
  {
   "cell_type": "code",
   "execution_count": 114,
   "metadata": {},
   "outputs": [],
   "source": [
    "geo1 = geo.join(views.set_index('idhash_client'), on='idhash_client')"
   ]
  },
  {
   "cell_type": "code",
   "execution_count": 115,
   "metadata": {},
   "outputs": [
    {
     "data": {
      "text/html": [
       "<div>\n",
       "<style scoped>\n",
       "    .dataframe tbody tr th:only-of-type {\n",
       "        vertical-align: middle;\n",
       "    }\n",
       "\n",
       "    .dataframe tbody tr th {\n",
       "        vertical-align: top;\n",
       "    }\n",
       "\n",
       "    .dataframe thead th {\n",
       "        text-align: right;\n",
       "    }\n",
       "</style>\n",
       "<table border=\"1\" class=\"dataframe\">\n",
       "  <thead>\n",
       "    <tr style=\"text-align: right;\">\n",
       "      <th></th>\n",
       "      <th>cluster_label</th>\n",
       "      <th>city</th>\n",
       "      <th>idhash_client</th>\n",
       "      <th>idhash_view</th>\n",
       "      <th>view_dttm</th>\n",
       "      <th>tariff</th>\n",
       "      <th>idhash_order</th>\n",
       "      <th>client_bill_usd</th>\n",
       "      <th>latitude</th>\n",
       "      <th>longitude</th>\n",
       "      <th>del_latitude</th>\n",
       "      <th>del_longitude</th>\n",
       "    </tr>\n",
       "  </thead>\n",
       "  <tbody>\n",
       "    <tr>\n",
       "      <th>0</th>\n",
       "      <td>0</td>\n",
       "      <td>Ярославская область</td>\n",
       "      <td>39262</td>\n",
       "      <td>156843244</td>\n",
       "      <td>2015-12-08 22:28:23</td>\n",
       "      <td>Эконом</td>\n",
       "      <td>0</td>\n",
       "      <td>1.86</td>\n",
       "      <td>57.584282</td>\n",
       "      <td>39.825794</td>\n",
       "      <td>57.584214</td>\n",
       "      <td>39.839829</td>\n",
       "    </tr>\n",
       "    <tr>\n",
       "      <th>0</th>\n",
       "      <td>0</td>\n",
       "      <td>Ярославская область</td>\n",
       "      <td>39262</td>\n",
       "      <td>4139885053</td>\n",
       "      <td>2015-12-08 22:28:46</td>\n",
       "      <td>Эконом</td>\n",
       "      <td>2686729818</td>\n",
       "      <td>1.86</td>\n",
       "      <td>57.584282</td>\n",
       "      <td>39.825794</td>\n",
       "      <td>57.584214</td>\n",
       "      <td>39.839829</td>\n",
       "    </tr>\n",
       "    <tr>\n",
       "      <th>0</th>\n",
       "      <td>0</td>\n",
       "      <td>Ярославская область</td>\n",
       "      <td>39262</td>\n",
       "      <td>2007943777</td>\n",
       "      <td>2015-12-08 22:28:51</td>\n",
       "      <td>Эконом</td>\n",
       "      <td>0</td>\n",
       "      <td>1.86</td>\n",
       "      <td>57.584282</td>\n",
       "      <td>39.825794</td>\n",
       "      <td>57.584214</td>\n",
       "      <td>39.839829</td>\n",
       "    </tr>\n",
       "    <tr>\n",
       "      <th>0</th>\n",
       "      <td>0</td>\n",
       "      <td>Ярославская область</td>\n",
       "      <td>39262</td>\n",
       "      <td>2066483825</td>\n",
       "      <td>2015-12-15 22:23:55</td>\n",
       "      <td>Эконом</td>\n",
       "      <td>0</td>\n",
       "      <td>1.46</td>\n",
       "      <td>57.584267</td>\n",
       "      <td>39.825745</td>\n",
       "      <td>57.584214</td>\n",
       "      <td>39.839829</td>\n",
       "    </tr>\n",
       "    <tr>\n",
       "      <th>0</th>\n",
       "      <td>0</td>\n",
       "      <td>Ярославская область</td>\n",
       "      <td>39262</td>\n",
       "      <td>1032456928</td>\n",
       "      <td>2015-12-15 22:31:55</td>\n",
       "      <td>Эконом</td>\n",
       "      <td>0</td>\n",
       "      <td>1.46</td>\n",
       "      <td>57.584267</td>\n",
       "      <td>39.825745</td>\n",
       "      <td>57.584214</td>\n",
       "      <td>39.839829</td>\n",
       "    </tr>\n",
       "    <tr>\n",
       "      <th>...</th>\n",
       "      <td>...</td>\n",
       "      <td>...</td>\n",
       "      <td>...</td>\n",
       "      <td>...</td>\n",
       "      <td>...</td>\n",
       "      <td>...</td>\n",
       "      <td>...</td>\n",
       "      <td>...</td>\n",
       "      <td>...</td>\n",
       "      <td>...</td>\n",
       "      <td>...</td>\n",
       "      <td>...</td>\n",
       "    </tr>\n",
       "    <tr>\n",
       "      <th>5</th>\n",
       "      <td>5</td>\n",
       "      <td>Вологодская область</td>\n",
       "      <td>4112524367</td>\n",
       "      <td>3362664442</td>\n",
       "      <td>2015-12-10 21:46:41</td>\n",
       "      <td>Комфорт+</td>\n",
       "      <td>0</td>\n",
       "      <td>4.24</td>\n",
       "      <td>59.217648</td>\n",
       "      <td>39.900810</td>\n",
       "      <td>59.204015</td>\n",
       "      <td>39.833033</td>\n",
       "    </tr>\n",
       "    <tr>\n",
       "      <th>5</th>\n",
       "      <td>5</td>\n",
       "      <td>Вологодская область</td>\n",
       "      <td>4131089333</td>\n",
       "      <td>3734484891</td>\n",
       "      <td>2015-12-11 20:39:25</td>\n",
       "      <td>Эконом</td>\n",
       "      <td>0</td>\n",
       "      <td>3.82</td>\n",
       "      <td>59.197512</td>\n",
       "      <td>39.860454</td>\n",
       "      <td>59.230253</td>\n",
       "      <td>39.868887</td>\n",
       "    </tr>\n",
       "    <tr>\n",
       "      <th>5</th>\n",
       "      <td>5</td>\n",
       "      <td>Вологодская область</td>\n",
       "      <td>4131089333</td>\n",
       "      <td>820013879</td>\n",
       "      <td>2015-12-11 20:39:39</td>\n",
       "      <td>Эконом</td>\n",
       "      <td>0</td>\n",
       "      <td>3.82</td>\n",
       "      <td>59.197512</td>\n",
       "      <td>39.860454</td>\n",
       "      <td>59.229511</td>\n",
       "      <td>39.871176</td>\n",
       "    </tr>\n",
       "    <tr>\n",
       "      <th>5</th>\n",
       "      <td>5</td>\n",
       "      <td>Вологодская область</td>\n",
       "      <td>4131089333</td>\n",
       "      <td>3346347154</td>\n",
       "      <td>2015-12-11 20:39:52</td>\n",
       "      <td>Эконом</td>\n",
       "      <td>391784762</td>\n",
       "      <td>3.82</td>\n",
       "      <td>59.197512</td>\n",
       "      <td>39.860454</td>\n",
       "      <td>59.229511</td>\n",
       "      <td>39.871176</td>\n",
       "    </tr>\n",
       "    <tr>\n",
       "      <th>5</th>\n",
       "      <td>5</td>\n",
       "      <td>Вологодская область</td>\n",
       "      <td>4228704472</td>\n",
       "      <td>847796534</td>\n",
       "      <td>2015-12-17 15:37:05</td>\n",
       "      <td>Эконом</td>\n",
       "      <td>1268959917</td>\n",
       "      <td>164.95</td>\n",
       "      <td>59.212462</td>\n",
       "      <td>39.936019</td>\n",
       "      <td>55.922630</td>\n",
       "      <td>37.744316</td>\n",
       "    </tr>\n",
       "  </tbody>\n",
       "</table>\n",
       "<p>2891926 rows × 12 columns</p>\n",
       "</div>"
      ],
      "text/plain": [
       "    cluster_label                 city  idhash_client  idhash_view  \\\n",
       "0               0  Ярославская область          39262    156843244   \n",
       "0               0  Ярославская область          39262   4139885053   \n",
       "0               0  Ярославская область          39262   2007943777   \n",
       "0               0  Ярославская область          39262   2066483825   \n",
       "0               0  Ярославская область          39262   1032456928   \n",
       "..            ...                  ...            ...          ...   \n",
       "5               5  Вологодская область     4112524367   3362664442   \n",
       "5               5  Вологодская область     4131089333   3734484891   \n",
       "5               5  Вологодская область     4131089333    820013879   \n",
       "5               5  Вологодская область     4131089333   3346347154   \n",
       "5               5  Вологодская область     4228704472    847796534   \n",
       "\n",
       "             view_dttm    tariff  idhash_order  client_bill_usd   latitude  \\\n",
       "0  2015-12-08 22:28:23    Эконом             0             1.86  57.584282   \n",
       "0  2015-12-08 22:28:46    Эконом    2686729818             1.86  57.584282   \n",
       "0  2015-12-08 22:28:51    Эконом             0             1.86  57.584282   \n",
       "0  2015-12-15 22:23:55    Эконом             0             1.46  57.584267   \n",
       "0  2015-12-15 22:31:55    Эконом             0             1.46  57.584267   \n",
       "..                 ...       ...           ...              ...        ...   \n",
       "5  2015-12-10 21:46:41  Комфорт+             0             4.24  59.217648   \n",
       "5  2015-12-11 20:39:25    Эконом             0             3.82  59.197512   \n",
       "5  2015-12-11 20:39:39    Эконом             0             3.82  59.197512   \n",
       "5  2015-12-11 20:39:52    Эконом     391784762             3.82  59.197512   \n",
       "5  2015-12-17 15:37:05    Эконом    1268959917           164.95  59.212462   \n",
       "\n",
       "    longitude  del_latitude  del_longitude  \n",
       "0   39.825794     57.584214      39.839829  \n",
       "0   39.825794     57.584214      39.839829  \n",
       "0   39.825794     57.584214      39.839829  \n",
       "0   39.825745     57.584214      39.839829  \n",
       "0   39.825745     57.584214      39.839829  \n",
       "..        ...           ...            ...  \n",
       "5   39.900810     59.204015      39.833033  \n",
       "5   39.860454     59.230253      39.868887  \n",
       "5   39.860454     59.229511      39.871176  \n",
       "5   39.860454     59.229511      39.871176  \n",
       "5   39.936019     55.922630      37.744316  \n",
       "\n",
       "[2891926 rows x 12 columns]"
      ]
     },
     "execution_count": 115,
     "metadata": {},
     "output_type": "execute_result"
    }
   ],
   "source": [
    "geo1"
   ]
  },
  {
   "cell_type": "code",
   "execution_count": 116,
   "metadata": {},
   "outputs": [],
   "source": [
    "av_bill =  geo1.groupby('city')['client_bill_usd'].mean()"
   ]
  },
  {
   "cell_type": "code",
   "execution_count": 117,
   "metadata": {},
   "outputs": [],
   "source": [
    "av_bill_city = pd.DataFrame(av_bill)"
   ]
  },
  {
   "cell_type": "code",
   "execution_count": 118,
   "metadata": {},
   "outputs": [
    {
     "data": {
      "text/html": [
       "<div>\n",
       "<style scoped>\n",
       "    .dataframe tbody tr th:only-of-type {\n",
       "        vertical-align: middle;\n",
       "    }\n",
       "\n",
       "    .dataframe tbody tr th {\n",
       "        vertical-align: top;\n",
       "    }\n",
       "\n",
       "    .dataframe thead th {\n",
       "        text-align: right;\n",
       "    }\n",
       "</style>\n",
       "<table border=\"1\" class=\"dataframe\">\n",
       "  <thead>\n",
       "    <tr style=\"text-align: right;\">\n",
       "      <th></th>\n",
       "      <th>client_bill_usd</th>\n",
       "    </tr>\n",
       "    <tr>\n",
       "      <th>city</th>\n",
       "      <th></th>\n",
       "    </tr>\n",
       "  </thead>\n",
       "  <tbody>\n",
       "    <tr>\n",
       "      <th>Владимирская область</th>\n",
       "      <td>23.497106</td>\n",
       "    </tr>\n",
       "    <tr>\n",
       "      <th>Вологодская область</th>\n",
       "      <td>7.591019</td>\n",
       "    </tr>\n",
       "    <tr>\n",
       "      <th>Костромская область</th>\n",
       "      <td>8.072168</td>\n",
       "    </tr>\n",
       "    <tr>\n",
       "      <th>Ярославская область</th>\n",
       "      <td>4.295530</td>\n",
       "    </tr>\n",
       "  </tbody>\n",
       "</table>\n",
       "</div>"
      ],
      "text/plain": [
       "                      client_bill_usd\n",
       "city                                 \n",
       "Владимирская область        23.497106\n",
       "Вологодская область          7.591019\n",
       "Костромская область          8.072168\n",
       "Ярославская область          4.295530"
      ]
     },
     "execution_count": 118,
     "metadata": {},
     "output_type": "execute_result"
    }
   ],
   "source": [
    "av_bill_city"
   ]
  },
  {
   "cell_type": "code",
   "execution_count": 119,
   "metadata": {},
   "outputs": [
    {
     "data": {
      "image/png": "[encoded data removed]",
      "text/plain": [
       "<Figure size 432x432 with 1 Axes>"
      ]
     },
     "metadata": {},
     "output_type": "display_data"
    }
   ],
   "source": [
    "av_bill_city['client_bill_usd'].plot(kind='pie', autopct = \"%.2f%%\", textprops={'color':\"w\"}, figsize=(6,6))\n",
    "plt.title('Views in clusters', color = 'w')\n",
    "plt.show()"
   ]
  },
  {
   "cell_type": "markdown",
   "metadata": {},
   "source": [
    "####  Order2Ride (исполняемость) - rides/orders"
   ]
  },
  {
   "cell_type": "code",
   "execution_count": 120,
   "metadata": {},
   "outputs": [],
   "source": [
    "data = orders.drop(['idhash_view'],axis = 1).join(df.set_index('idhash_order'), on='idhash_order',how = 'inner')"
   ]
  },
  {
   "cell_type": "code",
   "execution_count": 121,
   "metadata": {},
   "outputs": [],
   "source": [
    "ord1 = df.groupby(['clusters'])['idhash_order'].count()"
   ]
  },
  {
   "cell_type": "code",
   "execution_count": 122,
   "metadata": {},
   "outputs": [
    {
     "data": {
      "text/plain": [
       "clusters\n",
       "0    59815\n",
       "1    10751\n",
       "2     8651\n",
       "Name: idhash_order, dtype: int64"
      ]
     },
     "execution_count": 122,
     "metadata": {},
     "output_type": "execute_result"
    }
   ],
   "source": [
    "ord1"
   ]
  },
  {
   "cell_type": "code",
   "execution_count": 123,
   "metadata": {},
   "outputs": [],
   "source": [
    "data['status'] = 'CP'"
   ]
  },
  {
   "cell_type": "code",
   "execution_count": 124,
   "metadata": {},
   "outputs": [],
   "source": [
    "ride1 = data.groupby(['clusters'])['status'].count()"
   ]
  },
  {
   "cell_type": "code",
   "execution_count": 125,
   "metadata": {},
   "outputs": [
    {
     "data": {
      "text/plain": [
       "clusters\n",
       "0    58805\n",
       "1    10642\n",
       "2     8581\n",
       "Name: status, dtype: int64"
      ]
     },
     "execution_count": 125,
     "metadata": {},
     "output_type": "execute_result"
    }
   ],
   "source": [
    "ride1"
   ]
  },
  {
   "cell_type": "code",
   "execution_count": 126,
   "metadata": {},
   "outputs": [],
   "source": [
    "Order2Ride = pd.DataFrame()"
   ]
  },
  {
   "cell_type": "code",
   "execution_count": 127,
   "metadata": {},
   "outputs": [],
   "source": [
    "Order2Ride['cluster'] =ord1.keys()\n",
    "Order2Ride['orders'] = list(ord1)\n",
    "Order2Ride['rides'] = list(ride1)"
   ]
  },
  {
   "cell_type": "code",
   "execution_count": 128,
   "metadata": {},
   "outputs": [
    {
     "data": {
      "text/html": [
       "<div>\n",
       "<style scoped>\n",
       "    .dataframe tbody tr th:only-of-type {\n",
       "        vertical-align: middle;\n",
       "    }\n",
       "\n",
       "    .dataframe tbody tr th {\n",
       "        vertical-align: top;\n",
       "    }\n",
       "\n",
       "    .dataframe thead th {\n",
       "        text-align: right;\n",
       "    }\n",
       "</style>\n",
       "<table border=\"1\" class=\"dataframe\">\n",
       "  <thead>\n",
       "    <tr style=\"text-align: right;\">\n",
       "      <th></th>\n",
       "      <th>cluster</th>\n",
       "      <th>orders</th>\n",
       "      <th>rides</th>\n",
       "    </tr>\n",
       "  </thead>\n",
       "  <tbody>\n",
       "    <tr>\n",
       "      <th>0</th>\n",
       "      <td>0</td>\n",
       "      <td>59815</td>\n",
       "      <td>58805</td>\n",
       "    </tr>\n",
       "    <tr>\n",
       "      <th>1</th>\n",
       "      <td>1</td>\n",
       "      <td>10751</td>\n",
       "      <td>10642</td>\n",
       "    </tr>\n",
       "    <tr>\n",
       "      <th>2</th>\n",
       "      <td>2</td>\n",
       "      <td>8651</td>\n",
       "      <td>8581</td>\n",
       "    </tr>\n",
       "  </tbody>\n",
       "</table>\n",
       "</div>"
      ],
      "text/plain": [
       "   cluster  orders  rides\n",
       "0        0   59815  58805\n",
       "1        1   10751  10642\n",
       "2        2    8651   8581"
      ]
     },
     "execution_count": 128,
     "metadata": {},
     "output_type": "execute_result"
    }
   ],
   "source": [
    "Order2Ride"
   ]
  },
  {
   "cell_type": "code",
   "execution_count": 129,
   "metadata": {},
   "outputs": [
    {
     "data": {
      "image/png": "[encoded data removed]",
      "text/plain": [
       "<Figure size 432x288 with 1 Axes>"
      ]
     },
     "metadata": {
      "needs_background": "light"
     },
     "output_type": "display_data"
    }
   ],
   "source": [
    "Order2Ride.iloc[:, 1:3].plot(kind='bar')\n",
    "plt.xlabel('Cluster')\n",
    "plt.ylabel('Numbers')\n",
    "plt.show()"
   ]
  },
  {
   "cell_type": "code",
   "execution_count": 130,
   "metadata": {},
   "outputs": [
    {
     "data": {
      "image/png": "[encoded data removed]",
      "text/plain": [
       "<Figure size 432x432 with 1 Axes>"
      ]
     },
     "metadata": {},
     "output_type": "display_data"
    }
   ],
   "source": [
    "Order2Ride['rides'].plot(kind='pie', autopct = \"%.2f%%\", textprops={'color':\"w\"}, figsize=(6,6))\n",
    "plt.title('Rides in clusters', color = 'w')\n",
    "plt.show()"
   ]
  },
  {
   "cell_type": "markdown",
   "metadata": {},
   "source": [
    "#### IQR по клиентскому чеку в разбивке по сегменту. "
   ]
  },
  {
   "cell_type": "code",
   "execution_count": 131,
   "metadata": {},
   "outputs": [
    {
     "data": {
      "text/html": [
       "<div>\n",
       "<style scoped>\n",
       "    .dataframe tbody tr th:only-of-type {\n",
       "        vertical-align: middle;\n",
       "    }\n",
       "\n",
       "    .dataframe tbody tr th {\n",
       "        vertical-align: top;\n",
       "    }\n",
       "\n",
       "    .dataframe thead th {\n",
       "        text-align: right;\n",
       "    }\n",
       "</style>\n",
       "<table border=\"1\" class=\"dataframe\">\n",
       "  <thead>\n",
       "    <tr style=\"text-align: right;\">\n",
       "      <th></th>\n",
       "      <th>idhash_view</th>\n",
       "      <th>view_dttm</th>\n",
       "      <th>tariff</th>\n",
       "      <th>idhash_order</th>\n",
       "      <th>idhash_client</th>\n",
       "      <th>client_bill_usd</th>\n",
       "      <th>latitude</th>\n",
       "      <th>longitude</th>\n",
       "      <th>del_latitude</th>\n",
       "      <th>del_longitude</th>\n",
       "      <th>monetary</th>\n",
       "      <th>frequency</th>\n",
       "      <th>recency</th>\n",
       "      <th>clusters</th>\n",
       "      <th>R_Quartile</th>\n",
       "      <th>F_Quartile</th>\n",
       "      <th>M_Quartile</th>\n",
       "      <th>RFMClass</th>\n",
       "      <th>hour</th>\n",
       "      <th>phase</th>\n",
       "    </tr>\n",
       "  </thead>\n",
       "  <tbody>\n",
       "    <tr>\n",
       "      <th>73325</th>\n",
       "      <td>4139885053</td>\n",
       "      <td>2015-12-08 22:28:46</td>\n",
       "      <td>Эконом</td>\n",
       "      <td>2686729818</td>\n",
       "      <td>39262</td>\n",
       "      <td>1.86</td>\n",
       "      <td>57.584282</td>\n",
       "      <td>39.825794</td>\n",
       "      <td>57.584214</td>\n",
       "      <td>39.839829</td>\n",
       "      <td>54.655</td>\n",
       "      <td>25</td>\n",
       "      <td>0</td>\n",
       "      <td>0</td>\n",
       "      <td>1</td>\n",
       "      <td>1</td>\n",
       "      <td>2</td>\n",
       "      <td>112</td>\n",
       "      <td>22</td>\n",
       "      <td>Evening</td>\n",
       "    </tr>\n",
       "    <tr>\n",
       "      <th>898708</th>\n",
       "      <td>3709831592</td>\n",
       "      <td>2015-12-19 22:42:40</td>\n",
       "      <td>Комфорт</td>\n",
       "      <td>2761390152</td>\n",
       "      <td>39262</td>\n",
       "      <td>2.79</td>\n",
       "      <td>57.584267</td>\n",
       "      <td>39.825745</td>\n",
       "      <td>57.584214</td>\n",
       "      <td>39.839829</td>\n",
       "      <td>54.655</td>\n",
       "      <td>25</td>\n",
       "      <td>0</td>\n",
       "      <td>0</td>\n",
       "      <td>1</td>\n",
       "      <td>1</td>\n",
       "      <td>2</td>\n",
       "      <td>112</td>\n",
       "      <td>22</td>\n",
       "      <td>Evening</td>\n",
       "    </tr>\n",
       "  </tbody>\n",
       "</table>\n",
       "</div>"
      ],
      "text/plain": [
       "        idhash_view           view_dttm   tariff  idhash_order  idhash_client  \\\n",
       "73325    4139885053 2015-12-08 22:28:46   Эконом    2686729818          39262   \n",
       "898708   3709831592 2015-12-19 22:42:40  Комфорт    2761390152          39262   \n",
       "\n",
       "        client_bill_usd   latitude  longitude  del_latitude  del_longitude  \\\n",
       "73325              1.86  57.584282  39.825794     57.584214      39.839829   \n",
       "898708             2.79  57.584267  39.825745     57.584214      39.839829   \n",
       "\n",
       "        monetary  frequency  recency  clusters  R_Quartile  F_Quartile  \\\n",
       "73325     54.655         25        0         0           1           1   \n",
       "898708    54.655         25        0         0           1           1   \n",
       "\n",
       "        M_Quartile RFMClass  hour    phase  \n",
       "73325            2      112    22  Evening  \n",
       "898708           2      112    22  Evening  "
      ]
     },
     "execution_count": 131,
     "metadata": {},
     "output_type": "execute_result"
    }
   ],
   "source": [
    "df.head(2)"
   ]
  },
  {
   "cell_type": "code",
   "execution_count": 132,
   "metadata": {},
   "outputs": [],
   "source": [
    "cl_bill = data.groupby(['clusters'])['client_bill_usd'].mean()"
   ]
  },
  {
   "cell_type": "code",
   "execution_count": 133,
   "metadata": {},
   "outputs": [
    {
     "data": {
      "text/plain": [
       "0.2497415946426269"
      ]
     },
     "execution_count": 133,
     "metadata": {},
     "output_type": "execute_result"
    }
   ],
   "source": [
    "from scipy.stats import iqr\n",
    "iqr(cl_bill, axis = 0)"
   ]
  },
  {
   "cell_type": "markdown",
   "metadata": {},
   "source": [
    "#### IQR по клиентскому чеку в разбивке по городу."
   ]
  },
  {
   "cell_type": "code",
   "execution_count": 134,
   "metadata": {},
   "outputs": [],
   "source": [
    "city_bill = geo1.groupby(['city'])['client_bill_usd'].mean()"
   ]
  },
  {
   "cell_type": "code",
   "execution_count": 135,
   "metadata": {},
   "outputs": [
    {
     "data": {
      "text/plain": [
       "city\n",
       "Владимирская область    23.497106\n",
       "Вологодская область      7.591019\n",
       "Костромская область      8.072168\n",
       "Ярославская область      4.295530\n",
       "Name: client_bill_usd, dtype: float64"
      ]
     },
     "execution_count": 135,
     "metadata": {},
     "output_type": "execute_result"
    }
   ],
   "source": [
    "city_bill"
   ]
  },
  {
   "cell_type": "code",
   "execution_count": 136,
   "metadata": {},
   "outputs": [
    {
     "data": {
      "text/plain": [
       "5.1612563806316984"
      ]
     },
     "execution_count": 136,
     "metadata": {},
     "output_type": "execute_result"
    }
   ],
   "source": [
    "iqr(city_bill, axis = 0)"
   ]
  },
  {
   "cell_type": "markdown",
   "metadata": {},
   "source": [
    "#### средняяя длительность поездок по часам"
   ]
  },
  {
   "cell_type": "code",
   "execution_count": 137,
   "metadata": {},
   "outputs": [
    {
     "data": {
      "text/html": [
       "<div>\n",
       "<style scoped>\n",
       "    .dataframe tbody tr th:only-of-type {\n",
       "        vertical-align: middle;\n",
       "    }\n",
       "\n",
       "    .dataframe tbody tr th {\n",
       "        vertical-align: top;\n",
       "    }\n",
       "\n",
       "    .dataframe thead th {\n",
       "        text-align: right;\n",
       "    }\n",
       "</style>\n",
       "<table border=\"1\" class=\"dataframe\">\n",
       "  <thead>\n",
       "    <tr style=\"text-align: right;\">\n",
       "      <th></th>\n",
       "      <th>idhash_order</th>\n",
       "      <th>idhash_view</th>\n",
       "      <th>order_dttm</th>\n",
       "      <th>da_dttm</th>\n",
       "      <th>rfc_dttm</th>\n",
       "      <th>cc_dttm</th>\n",
       "      <th>finish_dttm</th>\n",
       "      <th>cancel_dttm</th>\n",
       "      <th>status</th>\n",
       "    </tr>\n",
       "  </thead>\n",
       "  <tbody>\n",
       "    <tr>\n",
       "      <th>0</th>\n",
       "      <td>3777115420</td>\n",
       "      <td>95199865</td>\n",
       "      <td>2015-12-06 00:00:09</td>\n",
       "      <td>2015-12-06 00:00:09</td>\n",
       "      <td>2015-12-06 00:03:31</td>\n",
       "      <td>2015-12-06 00:04:59</td>\n",
       "      <td>2015-12-06 00:10:06</td>\n",
       "      <td>NaT</td>\n",
       "      <td>CP</td>\n",
       "    </tr>\n",
       "    <tr>\n",
       "      <th>1</th>\n",
       "      <td>2983673012</td>\n",
       "      <td>3853062057</td>\n",
       "      <td>2015-12-06 00:00:11</td>\n",
       "      <td>2015-12-06 00:00:12</td>\n",
       "      <td>NaT</td>\n",
       "      <td>NaT</td>\n",
       "      <td>NaT</td>\n",
       "      <td>2015-12-06 00:01:26</td>\n",
       "      <td>CC</td>\n",
       "    </tr>\n",
       "    <tr>\n",
       "      <th>2</th>\n",
       "      <td>2177076394</td>\n",
       "      <td>147233410</td>\n",
       "      <td>2015-12-06 00:00:26</td>\n",
       "      <td>2015-12-06 00:00:37</td>\n",
       "      <td>2015-12-06 00:04:31</td>\n",
       "      <td>2015-12-06 00:07:06</td>\n",
       "      <td>2015-12-06 00:12:29</td>\n",
       "      <td>NaT</td>\n",
       "      <td>CP</td>\n",
       "    </tr>\n",
       "    <tr>\n",
       "      <th>3</th>\n",
       "      <td>1997846256</td>\n",
       "      <td>518227239</td>\n",
       "      <td>2015-12-06 00:00:32</td>\n",
       "      <td>2015-12-06 00:00:41</td>\n",
       "      <td>2015-12-06 00:04:04</td>\n",
       "      <td>2015-12-06 00:06:08</td>\n",
       "      <td>2015-12-06 00:17:11</td>\n",
       "      <td>NaT</td>\n",
       "      <td>CP</td>\n",
       "    </tr>\n",
       "    <tr>\n",
       "      <th>4</th>\n",
       "      <td>1893504594</td>\n",
       "      <td>3623774808</td>\n",
       "      <td>2015-12-06 00:01:07</td>\n",
       "      <td>2015-12-06 00:04:46</td>\n",
       "      <td>2015-12-06 00:11:35</td>\n",
       "      <td>2015-12-06 00:13:01</td>\n",
       "      <td>2015-12-06 00:29:43</td>\n",
       "      <td>NaT</td>\n",
       "      <td>CP</td>\n",
       "    </tr>\n",
       "  </tbody>\n",
       "</table>\n",
       "</div>"
      ],
      "text/plain": [
       "   idhash_order  idhash_view          order_dttm             da_dttm  \\\n",
       "0    3777115420     95199865 2015-12-06 00:00:09 2015-12-06 00:00:09   \n",
       "1    2983673012   3853062057 2015-12-06 00:00:11 2015-12-06 00:00:12   \n",
       "2    2177076394    147233410 2015-12-06 00:00:26 2015-12-06 00:00:37   \n",
       "3    1997846256    518227239 2015-12-06 00:00:32 2015-12-06 00:00:41   \n",
       "4    1893504594   3623774808 2015-12-06 00:01:07 2015-12-06 00:04:46   \n",
       "\n",
       "             rfc_dttm             cc_dttm         finish_dttm  \\\n",
       "0 2015-12-06 00:03:31 2015-12-06 00:04:59 2015-12-06 00:10:06   \n",
       "1                 NaT                 NaT                 NaT   \n",
       "2 2015-12-06 00:04:31 2015-12-06 00:07:06 2015-12-06 00:12:29   \n",
       "3 2015-12-06 00:04:04 2015-12-06 00:06:08 2015-12-06 00:17:11   \n",
       "4 2015-12-06 00:11:35 2015-12-06 00:13:01 2015-12-06 00:29:43   \n",
       "\n",
       "          cancel_dttm status  \n",
       "0                 NaT     CP  \n",
       "1 2015-12-06 00:01:26     CC  \n",
       "2                 NaT     CP  \n",
       "3                 NaT     CP  \n",
       "4                 NaT     CP  "
      ]
     },
     "execution_count": 137,
     "metadata": {},
     "output_type": "execute_result"
    }
   ],
   "source": [
    "orders.head()"
   ]
  },
  {
   "cell_type": "code",
   "execution_count": 138,
   "metadata": {},
   "outputs": [],
   "source": [
    "orders['r_hour'] = orders['order_dttm'].dt.hour\n",
    "orders['r_minute'] = orders['order_dttm'].dt.minute\n",
    "orders['r_second'] = orders['order_dttm'].dt.second"
   ]
  },
  {
   "cell_type": "code",
   "execution_count": 139,
   "metadata": {},
   "outputs": [],
   "source": [
    "orders['time1'] = (3600*orders['r_hour'] + 60*orders['r_minute'] + orders['r_second'])/3600"
   ]
  },
  {
   "cell_type": "code",
   "execution_count": 140,
   "metadata": {},
   "outputs": [],
   "source": [
    "orders = orders.drop(['r_hour','r_minute','r_second'],axis = 1).head(2) "
   ]
  },
  {
   "cell_type": "code",
   "execution_count": 141,
   "metadata": {},
   "outputs": [],
   "source": [
    "orders['r_hour'] = orders['finish_dttm'].dt.hour\n",
    "orders['r_minute'] = orders['finish_dttm'].dt.minute\n",
    "orders['r_second'] = orders['finish_dttm'].dt.second"
   ]
  },
  {
   "cell_type": "code",
   "execution_count": 142,
   "metadata": {},
   "outputs": [],
   "source": [
    "orders['time2'] = (3600*orders['r_hour'] + 60*orders['r_minute'] + orders['r_second'])/3600"
   ]
  },
  {
   "cell_type": "code",
   "execution_count": 143,
   "metadata": {},
   "outputs": [],
   "source": [
    "orders = orders.drop(['r_hour','r_minute','r_second'],axis = 1).head(2)"
   ]
  },
  {
   "cell_type": "code",
   "execution_count": 144,
   "metadata": {},
   "outputs": [],
   "source": [
    "orders['duration'] = orders['time2'] - orders['time1']"
   ]
  },
  {
   "cell_type": "code",
   "execution_count": 145,
   "metadata": {},
   "outputs": [
    {
     "data": {
      "text/plain": [
       "0.16583333333333333"
      ]
     },
     "execution_count": 145,
     "metadata": {},
     "output_type": "execute_result"
    }
   ],
   "source": [
    "orders['duration'].mean()"
   ]
  },
  {
   "cell_type": "markdown",
   "metadata": {},
   "source": [
    "## динамика ценообразования\n",
    "(делим клиентский чек в рублях на длительность поездки в минутах и получаем стоимость за минуту и смотрим, как этот показатель меняется в течение суток и дней недели)"
   ]
  },
  {
   "cell_type": "code",
   "execution_count": 146,
   "metadata": {},
   "outputs": [
    {
     "data": {
      "text/html": [
       "<div>\n",
       "<style scoped>\n",
       "    .dataframe tbody tr th:only-of-type {\n",
       "        vertical-align: middle;\n",
       "    }\n",
       "\n",
       "    .dataframe tbody tr th {\n",
       "        vertical-align: top;\n",
       "    }\n",
       "\n",
       "    .dataframe thead th {\n",
       "        text-align: right;\n",
       "    }\n",
       "</style>\n",
       "<table border=\"1\" class=\"dataframe\">\n",
       "  <thead>\n",
       "    <tr style=\"text-align: right;\">\n",
       "      <th></th>\n",
       "      <th>idhash_order</th>\n",
       "      <th>order_dttm</th>\n",
       "      <th>da_dttm</th>\n",
       "      <th>rfc_dttm</th>\n",
       "      <th>cc_dttm</th>\n",
       "      <th>finish_dttm</th>\n",
       "      <th>cancel_dttm</th>\n",
       "      <th>status</th>\n",
       "      <th>idhash_view</th>\n",
       "      <th>view_dttm</th>\n",
       "      <th>...</th>\n",
       "      <th>monetary</th>\n",
       "      <th>frequency</th>\n",
       "      <th>recency</th>\n",
       "      <th>clusters</th>\n",
       "      <th>R_Quartile</th>\n",
       "      <th>F_Quartile</th>\n",
       "      <th>M_Quartile</th>\n",
       "      <th>RFMClass</th>\n",
       "      <th>hour</th>\n",
       "      <th>phase</th>\n",
       "    </tr>\n",
       "  </thead>\n",
       "  <tbody>\n",
       "    <tr>\n",
       "      <th>0</th>\n",
       "      <td>3777115420</td>\n",
       "      <td>2015-12-06 00:00:09</td>\n",
       "      <td>2015-12-06 00:00:09</td>\n",
       "      <td>2015-12-06 00:03:31</td>\n",
       "      <td>2015-12-06 00:04:59</td>\n",
       "      <td>2015-12-06 00:10:06</td>\n",
       "      <td>NaT</td>\n",
       "      <td>CP</td>\n",
       "      <td>992462937</td>\n",
       "      <td>2015-12-06 00:00:06</td>\n",
       "      <td>...</td>\n",
       "      <td>450.520</td>\n",
       "      <td>87</td>\n",
       "      <td>0</td>\n",
       "      <td>0</td>\n",
       "      <td>1</td>\n",
       "      <td>1</td>\n",
       "      <td>1</td>\n",
       "      <td>111</td>\n",
       "      <td>0</td>\n",
       "      <td>Night</td>\n",
       "    </tr>\n",
       "    <tr>\n",
       "      <th>2</th>\n",
       "      <td>2177076394</td>\n",
       "      <td>2015-12-06 00:00:26</td>\n",
       "      <td>2015-12-06 00:00:37</td>\n",
       "      <td>2015-12-06 00:04:31</td>\n",
       "      <td>2015-12-06 00:07:06</td>\n",
       "      <td>2015-12-06 00:12:29</td>\n",
       "      <td>NaT</td>\n",
       "      <td>CP</td>\n",
       "      <td>1947282491</td>\n",
       "      <td>2015-12-06 00:00:25</td>\n",
       "      <td>...</td>\n",
       "      <td>335.105</td>\n",
       "      <td>104</td>\n",
       "      <td>0</td>\n",
       "      <td>0</td>\n",
       "      <td>1</td>\n",
       "      <td>1</td>\n",
       "      <td>1</td>\n",
       "      <td>111</td>\n",
       "      <td>0</td>\n",
       "      <td>Night</td>\n",
       "    </tr>\n",
       "  </tbody>\n",
       "</table>\n",
       "<p>2 rows × 27 columns</p>\n",
       "</div>"
      ],
      "text/plain": [
       "   idhash_order          order_dttm             da_dttm            rfc_dttm  \\\n",
       "0    3777115420 2015-12-06 00:00:09 2015-12-06 00:00:09 2015-12-06 00:03:31   \n",
       "2    2177076394 2015-12-06 00:00:26 2015-12-06 00:00:37 2015-12-06 00:04:31   \n",
       "\n",
       "              cc_dttm         finish_dttm cancel_dttm status  idhash_view  \\\n",
       "0 2015-12-06 00:04:59 2015-12-06 00:10:06         NaT     CP    992462937   \n",
       "2 2015-12-06 00:07:06 2015-12-06 00:12:29         NaT     CP   1947282491   \n",
       "\n",
       "            view_dttm  ... monetary  frequency  recency  clusters  R_Quartile  \\\n",
       "0 2015-12-06 00:00:06  ...  450.520         87        0         0           1   \n",
       "2 2015-12-06 00:00:25  ...  335.105        104        0         0           1   \n",
       "\n",
       "   F_Quartile  M_Quartile  RFMClass  hour  phase  \n",
       "0           1           1       111     0  Night  \n",
       "2           1           1       111     0  Night  \n",
       "\n",
       "[2 rows x 27 columns]"
      ]
     },
     "execution_count": 146,
     "metadata": {},
     "output_type": "execute_result"
    }
   ],
   "source": [
    "data.head(2)"
   ]
  },
  {
   "cell_type": "code",
   "execution_count": 147,
   "metadata": {},
   "outputs": [],
   "source": [
    "data['duration'] = orders['duration']*60"
   ]
  },
  {
   "cell_type": "code",
   "execution_count": 148,
   "metadata": {},
   "outputs": [],
   "source": [
    "values = {'duration': data['duration'].mean()}\n",
    "data = data.fillna(value=values)"
   ]
  },
  {
   "cell_type": "code",
   "execution_count": 149,
   "metadata": {},
   "outputs": [],
   "source": [
    "data['dynamic'] = data['client_bill_usd'] / data['duration']"
   ]
  },
  {
   "cell_type": "code",
   "execution_count": 150,
   "metadata": {},
   "outputs": [],
   "source": [
    "data['date'] = data['order_dttm'].dt.date"
   ]
  },
  {
   "cell_type": "code",
   "execution_count": 151,
   "metadata": {},
   "outputs": [],
   "source": [
    "dyn = data.groupby(['date'])['dynamic'].mean()"
   ]
  },
  {
   "cell_type": "code",
   "execution_count": 152,
   "metadata": {},
   "outputs": [],
   "source": [
    "dyn1 = data.groupby(['phase'])['dynamic'].mean()"
   ]
  },
  {
   "cell_type": "code",
   "execution_count": 153,
   "metadata": {},
   "outputs": [
    {
     "data": {
      "image/png": "[encoded data removed]",
      "text/plain": [
       "<Figure size 1332x756 with 1 Axes>"
      ]
     },
     "metadata": {},
     "output_type": "display_data"
    }
   ],
   "source": [
    "x = dyn.keys()\n",
    "y1 = list(dyn)\n",
    "\n",
    "fig, ax = plt.subplots()\n",
    "fig.set_size_inches(18.5, 10.5)\n",
    "\n",
    "color_rectangle = np.random.rand(7, 3)    # RGB\n",
    "ax.bar(x, y1, color = color_rectangle)\n",
    "\n",
    "plt.title('Динамика по дням', fontsize=20)\n",
    "plt.xlabel('Days', fontsize=20)\n",
    "plt.ylabel('Dynamic', fontsize=20)\n",
    "fig.set_facecolor('floralwhite')\n",
    "ax.set_facecolor('seashell')\n",
    "\n",
    "plt.show()"
   ]
  },
  {
   "cell_type": "code",
   "execution_count": 154,
   "metadata": {},
   "outputs": [
    {
     "data": {
      "image/png": "[encoded data removed]",
      "text/plain": [
       "<Figure size 432x288 with 1 Axes>"
      ]
     },
     "metadata": {},
     "output_type": "display_data"
    }
   ],
   "source": [
    "x = dyn1.keys()\n",
    "y1 = list(dyn1)\n",
    "\n",
    "fig, ax = plt.subplots()\n",
    "#fig.set_size_inches(18.5, 10.5)\n",
    "\n",
    "color_rectangle = np.random.rand(7, 3)    # RGB\n",
    "ax.bar(x, y1, color = color_rectangle)\n",
    "\n",
    "plt.title('Динамика по фазам дня', fontsize=20)\n",
    "plt.xlabel('Phase', fontsize=20)\n",
    "plt.ylabel('Dynamic', fontsize=20)\n",
    "fig.set_facecolor('floralwhite')\n",
    "ax.set_facecolor('seashell')\n",
    "\n",
    "plt.show()"
   ]
  },
  {
   "cell_type": "markdown",
   "metadata": {},
   "source": [
    "**Дополнительные задачи**\n",
    "<br> 1) Визуализировать количество просмотров цены, заказов и поездок по гексагонам\n",
    "<br> 2) Визуализировать View2Order по гексагонам \n",
    "<br> гексагоны должны быть раскрашлены в зависимости от значения показателя\n",
    "<br> Можно использовать библиотку h3 или kepler.gl\n"
   ]
  },
  {
   "cell_type": "code",
   "execution_count": 155,
   "metadata": {},
   "outputs": [
    {
     "data": {
      "text/html": [
       "<div>\n",
       "<style scoped>\n",
       "    .dataframe tbody tr th:only-of-type {\n",
       "        vertical-align: middle;\n",
       "    }\n",
       "\n",
       "    .dataframe tbody tr th {\n",
       "        vertical-align: top;\n",
       "    }\n",
       "\n",
       "    .dataframe thead th {\n",
       "        text-align: right;\n",
       "    }\n",
       "</style>\n",
       "<table border=\"1\" class=\"dataframe\">\n",
       "  <thead>\n",
       "    <tr style=\"text-align: right;\">\n",
       "      <th></th>\n",
       "      <th>cluster_label</th>\n",
       "      <th>city</th>\n",
       "      <th>idhash_client</th>\n",
       "      <th>idhash_view</th>\n",
       "      <th>view_dttm</th>\n",
       "      <th>tariff</th>\n",
       "      <th>idhash_order</th>\n",
       "      <th>client_bill_usd</th>\n",
       "      <th>latitude</th>\n",
       "      <th>longitude</th>\n",
       "      <th>del_latitude</th>\n",
       "      <th>del_longitude</th>\n",
       "    </tr>\n",
       "  </thead>\n",
       "  <tbody>\n",
       "    <tr>\n",
       "      <th>0</th>\n",
       "      <td>0</td>\n",
       "      <td>Ярославская область</td>\n",
       "      <td>39262</td>\n",
       "      <td>156843244</td>\n",
       "      <td>2015-12-08 22:28:23</td>\n",
       "      <td>Эконом</td>\n",
       "      <td>0</td>\n",
       "      <td>1.86</td>\n",
       "      <td>57.584282</td>\n",
       "      <td>39.825794</td>\n",
       "      <td>57.584214</td>\n",
       "      <td>39.839829</td>\n",
       "    </tr>\n",
       "    <tr>\n",
       "      <th>0</th>\n",
       "      <td>0</td>\n",
       "      <td>Ярославская область</td>\n",
       "      <td>39262</td>\n",
       "      <td>4139885053</td>\n",
       "      <td>2015-12-08 22:28:46</td>\n",
       "      <td>Эконом</td>\n",
       "      <td>2686729818</td>\n",
       "      <td>1.86</td>\n",
       "      <td>57.584282</td>\n",
       "      <td>39.825794</td>\n",
       "      <td>57.584214</td>\n",
       "      <td>39.839829</td>\n",
       "    </tr>\n",
       "    <tr>\n",
       "      <th>0</th>\n",
       "      <td>0</td>\n",
       "      <td>Ярославская область</td>\n",
       "      <td>39262</td>\n",
       "      <td>2007943777</td>\n",
       "      <td>2015-12-08 22:28:51</td>\n",
       "      <td>Эконом</td>\n",
       "      <td>0</td>\n",
       "      <td>1.86</td>\n",
       "      <td>57.584282</td>\n",
       "      <td>39.825794</td>\n",
       "      <td>57.584214</td>\n",
       "      <td>39.839829</td>\n",
       "    </tr>\n",
       "    <tr>\n",
       "      <th>0</th>\n",
       "      <td>0</td>\n",
       "      <td>Ярославская область</td>\n",
       "      <td>39262</td>\n",
       "      <td>2066483825</td>\n",
       "      <td>2015-12-15 22:23:55</td>\n",
       "      <td>Эконом</td>\n",
       "      <td>0</td>\n",
       "      <td>1.46</td>\n",
       "      <td>57.584267</td>\n",
       "      <td>39.825745</td>\n",
       "      <td>57.584214</td>\n",
       "      <td>39.839829</td>\n",
       "    </tr>\n",
       "    <tr>\n",
       "      <th>0</th>\n",
       "      <td>0</td>\n",
       "      <td>Ярославская область</td>\n",
       "      <td>39262</td>\n",
       "      <td>1032456928</td>\n",
       "      <td>2015-12-15 22:31:55</td>\n",
       "      <td>Эконом</td>\n",
       "      <td>0</td>\n",
       "      <td>1.46</td>\n",
       "      <td>57.584267</td>\n",
       "      <td>39.825745</td>\n",
       "      <td>57.584214</td>\n",
       "      <td>39.839829</td>\n",
       "    </tr>\n",
       "  </tbody>\n",
       "</table>\n",
       "</div>"
      ],
      "text/plain": [
       "   cluster_label                 city  idhash_client  idhash_view  \\\n",
       "0              0  Ярославская область          39262    156843244   \n",
       "0              0  Ярославская область          39262   4139885053   \n",
       "0              0  Ярославская область          39262   2007943777   \n",
       "0              0  Ярославская область          39262   2066483825   \n",
       "0              0  Ярославская область          39262   1032456928   \n",
       "\n",
       "            view_dttm  tariff  idhash_order  client_bill_usd   latitude  \\\n",
       "0 2015-12-08 22:28:23  Эконом             0             1.86  57.584282   \n",
       "0 2015-12-08 22:28:46  Эконом    2686729818             1.86  57.584282   \n",
       "0 2015-12-08 22:28:51  Эконом             0             1.86  57.584282   \n",
       "0 2015-12-15 22:23:55  Эконом             0             1.46  57.584267   \n",
       "0 2015-12-15 22:31:55  Эконом             0             1.46  57.584267   \n",
       "\n",
       "   longitude  del_latitude  del_longitude  \n",
       "0  39.825794     57.584214      39.839829  \n",
       "0  39.825794     57.584214      39.839829  \n",
       "0  39.825794     57.584214      39.839829  \n",
       "0  39.825745     57.584214      39.839829  \n",
       "0  39.825745     57.584214      39.839829  "
      ]
     },
     "execution_count": 155,
     "metadata": {},
     "output_type": "execute_result"
    }
   ],
   "source": [
    "geo1.head()"
   ]
  },
  {
   "cell_type": "code",
   "execution_count": 156,
   "metadata": {},
   "outputs": [],
   "source": [
    "from keplergl import KeplerGl"
   ]
  },
  {
   "cell_type": "code",
   "execution_count": null,
   "metadata": {},
   "outputs": [],
   "source": [
    "w1 = keplergl.KeplerGl(hight = 400, data={'data_1': df}, config = config)"
   ]
  },
  {
   "cell_type": "code",
   "execution_count": 164,
   "metadata": {},
   "outputs": [
    {
     "name": "stdout",
     "output_type": "stream",
     "text": [
      "User Guide: https://docs.kepler.gl/docs/keplergl-jupyter\n"
     ]
    }
   ],
   "source": [
    "map_1 = KeplerGl(height=400)\n",
    "map_1.add_data(data=center_info, name='center')"
   ]
  },
  {
   "cell_type": "code",
   "execution_count": 169,
   "metadata": {},
   "outputs": [],
   "source": [
    "import json"
   ]
  },
  {
   "cell_type": "code",
   "execution_count": 170,
   "metadata": {},
   "outputs": [],
   "source": [
    "geometryString = {\n",
    "    'type': 'Polygon',\n",
    "    'coordinates': [[[-74.158491,40.835947],[-74.148473,40.834522],[-74.142598,40.833128],[-74.151923,40.832074],[-74.158491,40.835947]]]\n",
    "}\n",
    "\n",
    "# create json string\n",
    "json_str = json.dumps(geometryString)\n",
    "\n",
    "# create data frame\n",
    "df_with_geometry = pd.DataFrame({\n",
    "    'id': [1],\n",
    "    'geometry_string': [json_str]\n",
    "})\n",
    "\n",
    "# add to map\n",
    "map_1.add_data(df_with_geometry, \"df_with_geometry\")"
   ]
  }
 ],
 "metadata": {
  "kernelspec": {
   "display_name": "Python 3",
   "language": "python",
   "name": "python3"
  },
  "language_info": {
   "codemirror_mode": {
    "name": "ipython",
    "version": 3
   },
   "file_extension": ".py",
   "mimetype": "text/x-python",
   "name": "python",
   "nbconvert_exporter": "python",
   "pygments_lexer": "ipython3",
   "version": "3.8.8"
  }
 },
 "nbformat": 4,
 "nbformat_minor": 4
}
